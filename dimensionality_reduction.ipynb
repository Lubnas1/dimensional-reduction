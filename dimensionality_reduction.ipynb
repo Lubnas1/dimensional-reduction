{
  "nbformat": 4,
  "nbformat_minor": 0,
  "metadata": {
    "colab": {
      "provenance": []
    },
    "kernelspec": {
      "name": "python3",
      "display_name": "Python 3"
    },
    "language_info": {
      "name": "python"
    }
  },
  "cells": [
    {
      "cell_type": "code",
      "execution_count": 78,
      "metadata": {
        "id": "84pDsDSASeMm"
      },
      "outputs": [],
      "source": [
        "import pandas as pd\n",
        "import numpy as np"
      ]
    },
    {
      "cell_type": "code",
      "source": [
        "df = pd.read_csv('/content/NCI60_X (1).csv', index_col = 0)"
      ],
      "metadata": {
        "id": "0H0_gl8bSlLh"
      },
      "execution_count": 79,
      "outputs": []
    },
    {
      "cell_type": "code",
      "source": [
        "df.head()"
      ],
      "metadata": {
        "colab": {
          "base_uri": "https://localhost:8080/",
          "height": 300
        },
        "id": "s56601EKTiuf",
        "outputId": "f6d2ca22-a00a-4eb4-fe60-e8ae38ec136b"
      },
      "execution_count": 80,
      "outputs": [
        {
          "output_type": "execute_result",
          "data": {
            "text/plain": [
              "           1         2         3         4         5             6         7  \\\n",
              "V1  0.300000  1.180000  0.550000  1.140000 -0.265000 -7.000000e-02  0.350000   \n",
              "V2  0.679961  1.289961  0.169961  0.379961  0.464961  5.799610e-01  0.699961   \n",
              "V3  0.940000 -0.040000 -0.170000 -0.040000 -0.605000  0.000000e+00  0.090000   \n",
              "V4  0.280000 -0.310000  0.680000 -0.810000  0.625000 -1.387779e-17  0.170000   \n",
              "V5  0.485000 -0.465000  0.395000  0.905000  0.200000 -5.000000e-03  0.085000   \n",
              "\n",
              "           8         9        10  ...      6821      6822      6823      6824  \\\n",
              "V1 -0.315000 -0.450000 -0.654980  ... -0.990020  0.000000  0.030000 -0.175000   \n",
              "V2  0.724961 -0.040039 -0.285019  ... -0.270058 -0.300039 -0.250039 -0.535039   \n",
              "V3  0.645000  0.430000  0.475019  ...  0.319981  0.120000 -0.740000 -0.595000   \n",
              "V4  0.245000  0.020000  0.095019  ... -1.240020 -0.110000 -0.160000  0.095000   \n",
              "V5  0.110000  0.235000  1.490019  ...  0.554980 -0.775000 -0.515000 -0.320000   \n",
              "\n",
              "        6825      6826      6827      6828      6829      6830  \n",
              "V1  0.629981 -0.030000  0.000000  0.280000 -0.340000 -1.930000  \n",
              "V2  0.109941 -0.860039 -1.250049 -0.770039 -0.390039 -2.000039  \n",
              "V3 -0.270020 -0.150000  0.000000 -0.120000 -0.410000  0.000000  \n",
              "V4 -0.350019 -0.300000 -1.150010  1.090000 -0.260000 -1.100000  \n",
              "V5  0.634980  0.605000  0.000000  0.745000  0.425000  0.145000  \n",
              "\n",
              "[5 rows x 6830 columns]"
            ],
            "text/html": [
              "\n",
              "  <div id=\"df-df47f11d-5c05-4a8a-8078-2c92edf1e144\">\n",
              "    <div class=\"colab-df-container\">\n",
              "      <div>\n",
              "<style scoped>\n",
              "    .dataframe tbody tr th:only-of-type {\n",
              "        vertical-align: middle;\n",
              "    }\n",
              "\n",
              "    .dataframe tbody tr th {\n",
              "        vertical-align: top;\n",
              "    }\n",
              "\n",
              "    .dataframe thead th {\n",
              "        text-align: right;\n",
              "    }\n",
              "</style>\n",
              "<table border=\"1\" class=\"dataframe\">\n",
              "  <thead>\n",
              "    <tr style=\"text-align: right;\">\n",
              "      <th></th>\n",
              "      <th>1</th>\n",
              "      <th>2</th>\n",
              "      <th>3</th>\n",
              "      <th>4</th>\n",
              "      <th>5</th>\n",
              "      <th>6</th>\n",
              "      <th>7</th>\n",
              "      <th>8</th>\n",
              "      <th>9</th>\n",
              "      <th>10</th>\n",
              "      <th>...</th>\n",
              "      <th>6821</th>\n",
              "      <th>6822</th>\n",
              "      <th>6823</th>\n",
              "      <th>6824</th>\n",
              "      <th>6825</th>\n",
              "      <th>6826</th>\n",
              "      <th>6827</th>\n",
              "      <th>6828</th>\n",
              "      <th>6829</th>\n",
              "      <th>6830</th>\n",
              "    </tr>\n",
              "  </thead>\n",
              "  <tbody>\n",
              "    <tr>\n",
              "      <th>V1</th>\n",
              "      <td>0.300000</td>\n",
              "      <td>1.180000</td>\n",
              "      <td>0.550000</td>\n",
              "      <td>1.140000</td>\n",
              "      <td>-0.265000</td>\n",
              "      <td>-7.000000e-02</td>\n",
              "      <td>0.350000</td>\n",
              "      <td>-0.315000</td>\n",
              "      <td>-0.450000</td>\n",
              "      <td>-0.654980</td>\n",
              "      <td>...</td>\n",
              "      <td>-0.990020</td>\n",
              "      <td>0.000000</td>\n",
              "      <td>0.030000</td>\n",
              "      <td>-0.175000</td>\n",
              "      <td>0.629981</td>\n",
              "      <td>-0.030000</td>\n",
              "      <td>0.000000</td>\n",
              "      <td>0.280000</td>\n",
              "      <td>-0.340000</td>\n",
              "      <td>-1.930000</td>\n",
              "    </tr>\n",
              "    <tr>\n",
              "      <th>V2</th>\n",
              "      <td>0.679961</td>\n",
              "      <td>1.289961</td>\n",
              "      <td>0.169961</td>\n",
              "      <td>0.379961</td>\n",
              "      <td>0.464961</td>\n",
              "      <td>5.799610e-01</td>\n",
              "      <td>0.699961</td>\n",
              "      <td>0.724961</td>\n",
              "      <td>-0.040039</td>\n",
              "      <td>-0.285019</td>\n",
              "      <td>...</td>\n",
              "      <td>-0.270058</td>\n",
              "      <td>-0.300039</td>\n",
              "      <td>-0.250039</td>\n",
              "      <td>-0.535039</td>\n",
              "      <td>0.109941</td>\n",
              "      <td>-0.860039</td>\n",
              "      <td>-1.250049</td>\n",
              "      <td>-0.770039</td>\n",
              "      <td>-0.390039</td>\n",
              "      <td>-2.000039</td>\n",
              "    </tr>\n",
              "    <tr>\n",
              "      <th>V3</th>\n",
              "      <td>0.940000</td>\n",
              "      <td>-0.040000</td>\n",
              "      <td>-0.170000</td>\n",
              "      <td>-0.040000</td>\n",
              "      <td>-0.605000</td>\n",
              "      <td>0.000000e+00</td>\n",
              "      <td>0.090000</td>\n",
              "      <td>0.645000</td>\n",
              "      <td>0.430000</td>\n",
              "      <td>0.475019</td>\n",
              "      <td>...</td>\n",
              "      <td>0.319981</td>\n",
              "      <td>0.120000</td>\n",
              "      <td>-0.740000</td>\n",
              "      <td>-0.595000</td>\n",
              "      <td>-0.270020</td>\n",
              "      <td>-0.150000</td>\n",
              "      <td>0.000000</td>\n",
              "      <td>-0.120000</td>\n",
              "      <td>-0.410000</td>\n",
              "      <td>0.000000</td>\n",
              "    </tr>\n",
              "    <tr>\n",
              "      <th>V4</th>\n",
              "      <td>0.280000</td>\n",
              "      <td>-0.310000</td>\n",
              "      <td>0.680000</td>\n",
              "      <td>-0.810000</td>\n",
              "      <td>0.625000</td>\n",
              "      <td>-1.387779e-17</td>\n",
              "      <td>0.170000</td>\n",
              "      <td>0.245000</td>\n",
              "      <td>0.020000</td>\n",
              "      <td>0.095019</td>\n",
              "      <td>...</td>\n",
              "      <td>-1.240020</td>\n",
              "      <td>-0.110000</td>\n",
              "      <td>-0.160000</td>\n",
              "      <td>0.095000</td>\n",
              "      <td>-0.350019</td>\n",
              "      <td>-0.300000</td>\n",
              "      <td>-1.150010</td>\n",
              "      <td>1.090000</td>\n",
              "      <td>-0.260000</td>\n",
              "      <td>-1.100000</td>\n",
              "    </tr>\n",
              "    <tr>\n",
              "      <th>V5</th>\n",
              "      <td>0.485000</td>\n",
              "      <td>-0.465000</td>\n",
              "      <td>0.395000</td>\n",
              "      <td>0.905000</td>\n",
              "      <td>0.200000</td>\n",
              "      <td>-5.000000e-03</td>\n",
              "      <td>0.085000</td>\n",
              "      <td>0.110000</td>\n",
              "      <td>0.235000</td>\n",
              "      <td>1.490019</td>\n",
              "      <td>...</td>\n",
              "      <td>0.554980</td>\n",
              "      <td>-0.775000</td>\n",
              "      <td>-0.515000</td>\n",
              "      <td>-0.320000</td>\n",
              "      <td>0.634980</td>\n",
              "      <td>0.605000</td>\n",
              "      <td>0.000000</td>\n",
              "      <td>0.745000</td>\n",
              "      <td>0.425000</td>\n",
              "      <td>0.145000</td>\n",
              "    </tr>\n",
              "  </tbody>\n",
              "</table>\n",
              "<p>5 rows × 6830 columns</p>\n",
              "</div>\n",
              "      <button class=\"colab-df-convert\" onclick=\"convertToInteractive('df-df47f11d-5c05-4a8a-8078-2c92edf1e144')\"\n",
              "              title=\"Convert this dataframe to an interactive table.\"\n",
              "              style=\"display:none;\">\n",
              "        \n",
              "  <svg xmlns=\"http://www.w3.org/2000/svg\" height=\"24px\"viewBox=\"0 0 24 24\"\n",
              "       width=\"24px\">\n",
              "    <path d=\"M0 0h24v24H0V0z\" fill=\"none\"/>\n",
              "    <path d=\"M18.56 5.44l.94 2.06.94-2.06 2.06-.94-2.06-.94-.94-2.06-.94 2.06-2.06.94zm-11 1L8.5 8.5l.94-2.06 2.06-.94-2.06-.94L8.5 2.5l-.94 2.06-2.06.94zm10 10l.94 2.06.94-2.06 2.06-.94-2.06-.94-.94-2.06-.94 2.06-2.06.94z\"/><path d=\"M17.41 7.96l-1.37-1.37c-.4-.4-.92-.59-1.43-.59-.52 0-1.04.2-1.43.59L10.3 9.45l-7.72 7.72c-.78.78-.78 2.05 0 2.83L4 21.41c.39.39.9.59 1.41.59.51 0 1.02-.2 1.41-.59l7.78-7.78 2.81-2.81c.8-.78.8-2.07 0-2.86zM5.41 20L4 18.59l7.72-7.72 1.47 1.35L5.41 20z\"/>\n",
              "  </svg>\n",
              "      </button>\n",
              "      \n",
              "  <style>\n",
              "    .colab-df-container {\n",
              "      display:flex;\n",
              "      flex-wrap:wrap;\n",
              "      gap: 12px;\n",
              "    }\n",
              "\n",
              "    .colab-df-convert {\n",
              "      background-color: #E8F0FE;\n",
              "      border: none;\n",
              "      border-radius: 50%;\n",
              "      cursor: pointer;\n",
              "      display: none;\n",
              "      fill: #1967D2;\n",
              "      height: 32px;\n",
              "      padding: 0 0 0 0;\n",
              "      width: 32px;\n",
              "    }\n",
              "\n",
              "    .colab-df-convert:hover {\n",
              "      background-color: #E2EBFA;\n",
              "      box-shadow: 0px 1px 2px rgba(60, 64, 67, 0.3), 0px 1px 3px 1px rgba(60, 64, 67, 0.15);\n",
              "      fill: #174EA6;\n",
              "    }\n",
              "\n",
              "    [theme=dark] .colab-df-convert {\n",
              "      background-color: #3B4455;\n",
              "      fill: #D2E3FC;\n",
              "    }\n",
              "\n",
              "    [theme=dark] .colab-df-convert:hover {\n",
              "      background-color: #434B5C;\n",
              "      box-shadow: 0px 1px 3px 1px rgba(0, 0, 0, 0.15);\n",
              "      filter: drop-shadow(0px 1px 2px rgba(0, 0, 0, 0.3));\n",
              "      fill: #FFFFFF;\n",
              "    }\n",
              "  </style>\n",
              "\n",
              "      <script>\n",
              "        const buttonEl =\n",
              "          document.querySelector('#df-df47f11d-5c05-4a8a-8078-2c92edf1e144 button.colab-df-convert');\n",
              "        buttonEl.style.display =\n",
              "          google.colab.kernel.accessAllowed ? 'block' : 'none';\n",
              "\n",
              "        async function convertToInteractive(key) {\n",
              "          const element = document.querySelector('#df-df47f11d-5c05-4a8a-8078-2c92edf1e144');\n",
              "          const dataTable =\n",
              "            await google.colab.kernel.invokeFunction('convertToInteractive',\n",
              "                                                     [key], {});\n",
              "          if (!dataTable) return;\n",
              "\n",
              "          const docLinkHtml = 'Like what you see? Visit the ' +\n",
              "            '<a target=\"_blank\" href=https://colab.research.google.com/notebooks/data_table.ipynb>data table notebook</a>'\n",
              "            + ' to learn more about interactive tables.';\n",
              "          element.innerHTML = '';\n",
              "          dataTable['output_type'] = 'display_data';\n",
              "          await google.colab.output.renderOutput(dataTable, element);\n",
              "          const docLink = document.createElement('div');\n",
              "          docLink.innerHTML = docLinkHtml;\n",
              "          element.appendChild(docLink);\n",
              "        }\n",
              "      </script>\n",
              "    </div>\n",
              "  </div>\n",
              "  "
            ]
          },
          "metadata": {},
          "execution_count": 80
        }
      ]
    },
    {
      "cell_type": "code",
      "source": [
        "df.shape"
      ],
      "metadata": {
        "colab": {
          "base_uri": "https://localhost:8080/"
        },
        "id": "X_aZ3E3oU_dM",
        "outputId": "284aab86-58e8-4db8-a07f-3703cb1f5623"
      },
      "execution_count": 81,
      "outputs": [
        {
          "output_type": "execute_result",
          "data": {
            "text/plain": [
              "(64, 6830)"
            ]
          },
          "metadata": {},
          "execution_count": 81
        }
      ]
    },
    {
      "cell_type": "code",
      "source": [
        "df.describe()"
      ],
      "metadata": {
        "colab": {
          "base_uri": "https://localhost:8080/",
          "height": 394
        },
        "id": "382-AeV2Tk1u",
        "outputId": "de1c6597-5a6b-460a-c3ad-d3fcd5cb9f56"
      },
      "execution_count": 82,
      "outputs": [
        {
          "output_type": "execute_result",
          "data": {
            "text/plain": [
              "               1          2          3          4          5          6  \\\n",
              "count  64.000000  64.000000  64.000000  64.000000  64.000000  64.000000   \n",
              "mean   -0.019063  -0.027813  -0.019923  -0.328673   0.026093   0.006718   \n",
              "std     0.441332   0.757433   0.433306   1.091905   0.485073   0.350432   \n",
              "min    -1.060000  -2.190000  -1.710000  -2.610000  -0.825000  -0.700000   \n",
              "25%    -0.372500  -0.404985  -0.192485  -1.322500  -0.225000  -0.156250   \n",
              "50%     0.000000   0.000000   0.000000   0.000000   0.000000   0.000000   \n",
              "75%     0.310005   0.352500   0.162490   0.692500   0.210000   0.184995   \n",
              "max     0.940000   2.240000   1.150000   1.500000   1.715000   1.160000   \n",
              "\n",
              "               7          8          9         10  ...       6821       6822  \\\n",
              "count  64.000000  64.000000  64.000000  64.000000  ...  64.000000  64.000000   \n",
              "mean    0.019687  -0.023126   0.000780   0.019237  ...  -0.079551   0.402577   \n",
              "std     0.370683   0.338629   0.429188   0.641583  ...   0.890365   1.131769   \n",
              "min    -0.920000  -0.705000  -0.900000  -1.654981  ...  -1.850020  -0.775000   \n",
              "25%    -0.246250  -0.204985  -0.360000  -0.477466  ...  -0.660019  -0.177500   \n",
              "50%     0.000000   0.000000   0.000000   0.000000  ...   0.000000   0.000000   \n",
              "75%     0.247505   0.160015   0.295000   0.467519  ...   0.304980   0.560000   \n",
              "max     0.940000   0.724961   0.990000   1.490019  ...   2.929980   5.200000   \n",
              "\n",
              "            6823       6824       6825       6826       6827       6828  \\\n",
              "count  64.000000  64.000000  64.000000  64.000000  64.000000  64.000000   \n",
              "mean    0.295077   0.171093   0.101152   0.153671   0.090775  -0.126798   \n",
              "std     1.121419   0.888764   0.641122   0.924292   1.209138   0.787136   \n",
              "min    -1.150000  -2.095000  -1.390020  -1.330000  -2.030010  -1.700000   \n",
              "25%    -0.327500  -0.328750  -0.232519  -0.330000  -0.602510  -0.682500   \n",
              "50%     0.000000   0.000000   0.000000   0.000000   0.000000   0.000000   \n",
              "75%     0.422500   0.427500   0.302480   0.325000   0.134995   0.302505   \n",
              "max     5.510000   3.995000   2.899980   4.600000   5.339990   2.560000   \n",
              "\n",
              "            6829       6830  \n",
              "count  64.000000  64.000000  \n",
              "mean    0.129921   0.143514  \n",
              "std     0.566303   1.509312  \n",
              "min    -0.910000  -2.830000  \n",
              "25%    -0.275000  -1.100000  \n",
              "50%     0.000000   0.000000  \n",
              "75%     0.451255   1.250000  \n",
              "max     2.030000   3.940000  \n",
              "\n",
              "[8 rows x 6830 columns]"
            ],
            "text/html": [
              "\n",
              "  <div id=\"df-6a417d0c-779f-4cfe-a21e-0b6c66be2a61\">\n",
              "    <div class=\"colab-df-container\">\n",
              "      <div>\n",
              "<style scoped>\n",
              "    .dataframe tbody tr th:only-of-type {\n",
              "        vertical-align: middle;\n",
              "    }\n",
              "\n",
              "    .dataframe tbody tr th {\n",
              "        vertical-align: top;\n",
              "    }\n",
              "\n",
              "    .dataframe thead th {\n",
              "        text-align: right;\n",
              "    }\n",
              "</style>\n",
              "<table border=\"1\" class=\"dataframe\">\n",
              "  <thead>\n",
              "    <tr style=\"text-align: right;\">\n",
              "      <th></th>\n",
              "      <th>1</th>\n",
              "      <th>2</th>\n",
              "      <th>3</th>\n",
              "      <th>4</th>\n",
              "      <th>5</th>\n",
              "      <th>6</th>\n",
              "      <th>7</th>\n",
              "      <th>8</th>\n",
              "      <th>9</th>\n",
              "      <th>10</th>\n",
              "      <th>...</th>\n",
              "      <th>6821</th>\n",
              "      <th>6822</th>\n",
              "      <th>6823</th>\n",
              "      <th>6824</th>\n",
              "      <th>6825</th>\n",
              "      <th>6826</th>\n",
              "      <th>6827</th>\n",
              "      <th>6828</th>\n",
              "      <th>6829</th>\n",
              "      <th>6830</th>\n",
              "    </tr>\n",
              "  </thead>\n",
              "  <tbody>\n",
              "    <tr>\n",
              "      <th>count</th>\n",
              "      <td>64.000000</td>\n",
              "      <td>64.000000</td>\n",
              "      <td>64.000000</td>\n",
              "      <td>64.000000</td>\n",
              "      <td>64.000000</td>\n",
              "      <td>64.000000</td>\n",
              "      <td>64.000000</td>\n",
              "      <td>64.000000</td>\n",
              "      <td>64.000000</td>\n",
              "      <td>64.000000</td>\n",
              "      <td>...</td>\n",
              "      <td>64.000000</td>\n",
              "      <td>64.000000</td>\n",
              "      <td>64.000000</td>\n",
              "      <td>64.000000</td>\n",
              "      <td>64.000000</td>\n",
              "      <td>64.000000</td>\n",
              "      <td>64.000000</td>\n",
              "      <td>64.000000</td>\n",
              "      <td>64.000000</td>\n",
              "      <td>64.000000</td>\n",
              "    </tr>\n",
              "    <tr>\n",
              "      <th>mean</th>\n",
              "      <td>-0.019063</td>\n",
              "      <td>-0.027813</td>\n",
              "      <td>-0.019923</td>\n",
              "      <td>-0.328673</td>\n",
              "      <td>0.026093</td>\n",
              "      <td>0.006718</td>\n",
              "      <td>0.019687</td>\n",
              "      <td>-0.023126</td>\n",
              "      <td>0.000780</td>\n",
              "      <td>0.019237</td>\n",
              "      <td>...</td>\n",
              "      <td>-0.079551</td>\n",
              "      <td>0.402577</td>\n",
              "      <td>0.295077</td>\n",
              "      <td>0.171093</td>\n",
              "      <td>0.101152</td>\n",
              "      <td>0.153671</td>\n",
              "      <td>0.090775</td>\n",
              "      <td>-0.126798</td>\n",
              "      <td>0.129921</td>\n",
              "      <td>0.143514</td>\n",
              "    </tr>\n",
              "    <tr>\n",
              "      <th>std</th>\n",
              "      <td>0.441332</td>\n",
              "      <td>0.757433</td>\n",
              "      <td>0.433306</td>\n",
              "      <td>1.091905</td>\n",
              "      <td>0.485073</td>\n",
              "      <td>0.350432</td>\n",
              "      <td>0.370683</td>\n",
              "      <td>0.338629</td>\n",
              "      <td>0.429188</td>\n",
              "      <td>0.641583</td>\n",
              "      <td>...</td>\n",
              "      <td>0.890365</td>\n",
              "      <td>1.131769</td>\n",
              "      <td>1.121419</td>\n",
              "      <td>0.888764</td>\n",
              "      <td>0.641122</td>\n",
              "      <td>0.924292</td>\n",
              "      <td>1.209138</td>\n",
              "      <td>0.787136</td>\n",
              "      <td>0.566303</td>\n",
              "      <td>1.509312</td>\n",
              "    </tr>\n",
              "    <tr>\n",
              "      <th>min</th>\n",
              "      <td>-1.060000</td>\n",
              "      <td>-2.190000</td>\n",
              "      <td>-1.710000</td>\n",
              "      <td>-2.610000</td>\n",
              "      <td>-0.825000</td>\n",
              "      <td>-0.700000</td>\n",
              "      <td>-0.920000</td>\n",
              "      <td>-0.705000</td>\n",
              "      <td>-0.900000</td>\n",
              "      <td>-1.654981</td>\n",
              "      <td>...</td>\n",
              "      <td>-1.850020</td>\n",
              "      <td>-0.775000</td>\n",
              "      <td>-1.150000</td>\n",
              "      <td>-2.095000</td>\n",
              "      <td>-1.390020</td>\n",
              "      <td>-1.330000</td>\n",
              "      <td>-2.030010</td>\n",
              "      <td>-1.700000</td>\n",
              "      <td>-0.910000</td>\n",
              "      <td>-2.830000</td>\n",
              "    </tr>\n",
              "    <tr>\n",
              "      <th>25%</th>\n",
              "      <td>-0.372500</td>\n",
              "      <td>-0.404985</td>\n",
              "      <td>-0.192485</td>\n",
              "      <td>-1.322500</td>\n",
              "      <td>-0.225000</td>\n",
              "      <td>-0.156250</td>\n",
              "      <td>-0.246250</td>\n",
              "      <td>-0.204985</td>\n",
              "      <td>-0.360000</td>\n",
              "      <td>-0.477466</td>\n",
              "      <td>...</td>\n",
              "      <td>-0.660019</td>\n",
              "      <td>-0.177500</td>\n",
              "      <td>-0.327500</td>\n",
              "      <td>-0.328750</td>\n",
              "      <td>-0.232519</td>\n",
              "      <td>-0.330000</td>\n",
              "      <td>-0.602510</td>\n",
              "      <td>-0.682500</td>\n",
              "      <td>-0.275000</td>\n",
              "      <td>-1.100000</td>\n",
              "    </tr>\n",
              "    <tr>\n",
              "      <th>50%</th>\n",
              "      <td>0.000000</td>\n",
              "      <td>0.000000</td>\n",
              "      <td>0.000000</td>\n",
              "      <td>0.000000</td>\n",
              "      <td>0.000000</td>\n",
              "      <td>0.000000</td>\n",
              "      <td>0.000000</td>\n",
              "      <td>0.000000</td>\n",
              "      <td>0.000000</td>\n",
              "      <td>0.000000</td>\n",
              "      <td>...</td>\n",
              "      <td>0.000000</td>\n",
              "      <td>0.000000</td>\n",
              "      <td>0.000000</td>\n",
              "      <td>0.000000</td>\n",
              "      <td>0.000000</td>\n",
              "      <td>0.000000</td>\n",
              "      <td>0.000000</td>\n",
              "      <td>0.000000</td>\n",
              "      <td>0.000000</td>\n",
              "      <td>0.000000</td>\n",
              "    </tr>\n",
              "    <tr>\n",
              "      <th>75%</th>\n",
              "      <td>0.310005</td>\n",
              "      <td>0.352500</td>\n",
              "      <td>0.162490</td>\n",
              "      <td>0.692500</td>\n",
              "      <td>0.210000</td>\n",
              "      <td>0.184995</td>\n",
              "      <td>0.247505</td>\n",
              "      <td>0.160015</td>\n",
              "      <td>0.295000</td>\n",
              "      <td>0.467519</td>\n",
              "      <td>...</td>\n",
              "      <td>0.304980</td>\n",
              "      <td>0.560000</td>\n",
              "      <td>0.422500</td>\n",
              "      <td>0.427500</td>\n",
              "      <td>0.302480</td>\n",
              "      <td>0.325000</td>\n",
              "      <td>0.134995</td>\n",
              "      <td>0.302505</td>\n",
              "      <td>0.451255</td>\n",
              "      <td>1.250000</td>\n",
              "    </tr>\n",
              "    <tr>\n",
              "      <th>max</th>\n",
              "      <td>0.940000</td>\n",
              "      <td>2.240000</td>\n",
              "      <td>1.150000</td>\n",
              "      <td>1.500000</td>\n",
              "      <td>1.715000</td>\n",
              "      <td>1.160000</td>\n",
              "      <td>0.940000</td>\n",
              "      <td>0.724961</td>\n",
              "      <td>0.990000</td>\n",
              "      <td>1.490019</td>\n",
              "      <td>...</td>\n",
              "      <td>2.929980</td>\n",
              "      <td>5.200000</td>\n",
              "      <td>5.510000</td>\n",
              "      <td>3.995000</td>\n",
              "      <td>2.899980</td>\n",
              "      <td>4.600000</td>\n",
              "      <td>5.339990</td>\n",
              "      <td>2.560000</td>\n",
              "      <td>2.030000</td>\n",
              "      <td>3.940000</td>\n",
              "    </tr>\n",
              "  </tbody>\n",
              "</table>\n",
              "<p>8 rows × 6830 columns</p>\n",
              "</div>\n",
              "      <button class=\"colab-df-convert\" onclick=\"convertToInteractive('df-6a417d0c-779f-4cfe-a21e-0b6c66be2a61')\"\n",
              "              title=\"Convert this dataframe to an interactive table.\"\n",
              "              style=\"display:none;\">\n",
              "        \n",
              "  <svg xmlns=\"http://www.w3.org/2000/svg\" height=\"24px\"viewBox=\"0 0 24 24\"\n",
              "       width=\"24px\">\n",
              "    <path d=\"M0 0h24v24H0V0z\" fill=\"none\"/>\n",
              "    <path d=\"M18.56 5.44l.94 2.06.94-2.06 2.06-.94-2.06-.94-.94-2.06-.94 2.06-2.06.94zm-11 1L8.5 8.5l.94-2.06 2.06-.94-2.06-.94L8.5 2.5l-.94 2.06-2.06.94zm10 10l.94 2.06.94-2.06 2.06-.94-2.06-.94-.94-2.06-.94 2.06-2.06.94z\"/><path d=\"M17.41 7.96l-1.37-1.37c-.4-.4-.92-.59-1.43-.59-.52 0-1.04.2-1.43.59L10.3 9.45l-7.72 7.72c-.78.78-.78 2.05 0 2.83L4 21.41c.39.39.9.59 1.41.59.51 0 1.02-.2 1.41-.59l7.78-7.78 2.81-2.81c.8-.78.8-2.07 0-2.86zM5.41 20L4 18.59l7.72-7.72 1.47 1.35L5.41 20z\"/>\n",
              "  </svg>\n",
              "      </button>\n",
              "      \n",
              "  <style>\n",
              "    .colab-df-container {\n",
              "      display:flex;\n",
              "      flex-wrap:wrap;\n",
              "      gap: 12px;\n",
              "    }\n",
              "\n",
              "    .colab-df-convert {\n",
              "      background-color: #E8F0FE;\n",
              "      border: none;\n",
              "      border-radius: 50%;\n",
              "      cursor: pointer;\n",
              "      display: none;\n",
              "      fill: #1967D2;\n",
              "      height: 32px;\n",
              "      padding: 0 0 0 0;\n",
              "      width: 32px;\n",
              "    }\n",
              "\n",
              "    .colab-df-convert:hover {\n",
              "      background-color: #E2EBFA;\n",
              "      box-shadow: 0px 1px 2px rgba(60, 64, 67, 0.3), 0px 1px 3px 1px rgba(60, 64, 67, 0.15);\n",
              "      fill: #174EA6;\n",
              "    }\n",
              "\n",
              "    [theme=dark] .colab-df-convert {\n",
              "      background-color: #3B4455;\n",
              "      fill: #D2E3FC;\n",
              "    }\n",
              "\n",
              "    [theme=dark] .colab-df-convert:hover {\n",
              "      background-color: #434B5C;\n",
              "      box-shadow: 0px 1px 3px 1px rgba(0, 0, 0, 0.15);\n",
              "      filter: drop-shadow(0px 1px 2px rgba(0, 0, 0, 0.3));\n",
              "      fill: #FFFFFF;\n",
              "    }\n",
              "  </style>\n",
              "\n",
              "      <script>\n",
              "        const buttonEl =\n",
              "          document.querySelector('#df-6a417d0c-779f-4cfe-a21e-0b6c66be2a61 button.colab-df-convert');\n",
              "        buttonEl.style.display =\n",
              "          google.colab.kernel.accessAllowed ? 'block' : 'none';\n",
              "\n",
              "        async function convertToInteractive(key) {\n",
              "          const element = document.querySelector('#df-6a417d0c-779f-4cfe-a21e-0b6c66be2a61');\n",
              "          const dataTable =\n",
              "            await google.colab.kernel.invokeFunction('convertToInteractive',\n",
              "                                                     [key], {});\n",
              "          if (!dataTable) return;\n",
              "\n",
              "          const docLinkHtml = 'Like what you see? Visit the ' +\n",
              "            '<a target=\"_blank\" href=https://colab.research.google.com/notebooks/data_table.ipynb>data table notebook</a>'\n",
              "            + ' to learn more about interactive tables.';\n",
              "          element.innerHTML = '';\n",
              "          dataTable['output_type'] = 'display_data';\n",
              "          await google.colab.output.renderOutput(dataTable, element);\n",
              "          const docLink = document.createElement('div');\n",
              "          docLink.innerHTML = docLinkHtml;\n",
              "          element.appendChild(docLink);\n",
              "        }\n",
              "      </script>\n",
              "    </div>\n",
              "  </div>\n",
              "  "
            ]
          },
          "metadata": {},
          "execution_count": 82
        }
      ]
    },
    {
      "cell_type": "markdown",
      "source": [
        "**before applying pca we do clustering to know the difference before and after applying pca **"
      ],
      "metadata": {
        "id": "0f-o9TJdu9vi"
      }
    },
    {
      "cell_type": "code",
      "source": [
        "x = df"
      ],
      "metadata": {
        "id": "xRcmO8mlV0N3"
      },
      "execution_count": 83,
      "outputs": []
    },
    {
      "cell_type": "code",
      "source": [
        "from sklearn.cluster import KMeans"
      ],
      "metadata": {
        "id": "2X8ab1SbTnTd"
      },
      "execution_count": 84,
      "outputs": []
    },
    {
      "cell_type": "code",
      "source": [
        "km = KMeans(n_clusters = 5, n_init = 20)"
      ],
      "metadata": {
        "id": "xI08VElGVrwi"
      },
      "execution_count": 85,
      "outputs": []
    },
    {
      "cell_type": "code",
      "source": [
        "km.fit(x)"
      ],
      "metadata": {
        "colab": {
          "base_uri": "https://localhost:8080/",
          "height": 75
        },
        "id": "qKrwyujgVvKL",
        "outputId": "6054bca8-44ce-417e-8f5c-bc6eaeaec847"
      },
      "execution_count": 86,
      "outputs": [
        {
          "output_type": "execute_result",
          "data": {
            "text/plain": [
              "KMeans(n_clusters=5, n_init=20)"
            ],
            "text/html": [
              "<style>#sk-container-id-2 {color: black;background-color: white;}#sk-container-id-2 pre{padding: 0;}#sk-container-id-2 div.sk-toggleable {background-color: white;}#sk-container-id-2 label.sk-toggleable__label {cursor: pointer;display: block;width: 100%;margin-bottom: 0;padding: 0.3em;box-sizing: border-box;text-align: center;}#sk-container-id-2 label.sk-toggleable__label-arrow:before {content: \"▸\";float: left;margin-right: 0.25em;color: #696969;}#sk-container-id-2 label.sk-toggleable__label-arrow:hover:before {color: black;}#sk-container-id-2 div.sk-estimator:hover label.sk-toggleable__label-arrow:before {color: black;}#sk-container-id-2 div.sk-toggleable__content {max-height: 0;max-width: 0;overflow: hidden;text-align: left;background-color: #f0f8ff;}#sk-container-id-2 div.sk-toggleable__content pre {margin: 0.2em;color: black;border-radius: 0.25em;background-color: #f0f8ff;}#sk-container-id-2 input.sk-toggleable__control:checked~div.sk-toggleable__content {max-height: 200px;max-width: 100%;overflow: auto;}#sk-container-id-2 input.sk-toggleable__control:checked~label.sk-toggleable__label-arrow:before {content: \"▾\";}#sk-container-id-2 div.sk-estimator input.sk-toggleable__control:checked~label.sk-toggleable__label {background-color: #d4ebff;}#sk-container-id-2 div.sk-label input.sk-toggleable__control:checked~label.sk-toggleable__label {background-color: #d4ebff;}#sk-container-id-2 input.sk-hidden--visually {border: 0;clip: rect(1px 1px 1px 1px);clip: rect(1px, 1px, 1px, 1px);height: 1px;margin: -1px;overflow: hidden;padding: 0;position: absolute;width: 1px;}#sk-container-id-2 div.sk-estimator {font-family: monospace;background-color: #f0f8ff;border: 1px dotted black;border-radius: 0.25em;box-sizing: border-box;margin-bottom: 0.5em;}#sk-container-id-2 div.sk-estimator:hover {background-color: #d4ebff;}#sk-container-id-2 div.sk-parallel-item::after {content: \"\";width: 100%;border-bottom: 1px solid gray;flex-grow: 1;}#sk-container-id-2 div.sk-label:hover label.sk-toggleable__label {background-color: #d4ebff;}#sk-container-id-2 div.sk-serial::before {content: \"\";position: absolute;border-left: 1px solid gray;box-sizing: border-box;top: 0;bottom: 0;left: 50%;z-index: 0;}#sk-container-id-2 div.sk-serial {display: flex;flex-direction: column;align-items: center;background-color: white;padding-right: 0.2em;padding-left: 0.2em;position: relative;}#sk-container-id-2 div.sk-item {position: relative;z-index: 1;}#sk-container-id-2 div.sk-parallel {display: flex;align-items: stretch;justify-content: center;background-color: white;position: relative;}#sk-container-id-2 div.sk-item::before, #sk-container-id-2 div.sk-parallel-item::before {content: \"\";position: absolute;border-left: 1px solid gray;box-sizing: border-box;top: 0;bottom: 0;left: 50%;z-index: -1;}#sk-container-id-2 div.sk-parallel-item {display: flex;flex-direction: column;z-index: 1;position: relative;background-color: white;}#sk-container-id-2 div.sk-parallel-item:first-child::after {align-self: flex-end;width: 50%;}#sk-container-id-2 div.sk-parallel-item:last-child::after {align-self: flex-start;width: 50%;}#sk-container-id-2 div.sk-parallel-item:only-child::after {width: 0;}#sk-container-id-2 div.sk-dashed-wrapped {border: 1px dashed gray;margin: 0 0.4em 0.5em 0.4em;box-sizing: border-box;padding-bottom: 0.4em;background-color: white;}#sk-container-id-2 div.sk-label label {font-family: monospace;font-weight: bold;display: inline-block;line-height: 1.2em;}#sk-container-id-2 div.sk-label-container {text-align: center;}#sk-container-id-2 div.sk-container {/* jupyter's `normalize.less` sets `[hidden] { display: none; }` but bootstrap.min.css set `[hidden] { display: none !important; }` so we also need the `!important` here to be able to override the default hidden behavior on the sphinx rendered scikit-learn.org. See: https://github.com/scikit-learn/scikit-learn/issues/21755 */display: inline-block !important;position: relative;}#sk-container-id-2 div.sk-text-repr-fallback {display: none;}</style><div id=\"sk-container-id-2\" class=\"sk-top-container\"><div class=\"sk-text-repr-fallback\"><pre>KMeans(n_clusters=5, n_init=20)</pre><b>In a Jupyter environment, please rerun this cell to show the HTML representation or trust the notebook. <br />On GitHub, the HTML representation is unable to render, please try loading this page with nbviewer.org.</b></div><div class=\"sk-container\" hidden><div class=\"sk-item\"><div class=\"sk-estimator sk-toggleable\"><input class=\"sk-toggleable__control sk-hidden--visually\" id=\"sk-estimator-id-2\" type=\"checkbox\" checked><label for=\"sk-estimator-id-2\" class=\"sk-toggleable__label sk-toggleable__label-arrow\">KMeans</label><div class=\"sk-toggleable__content\"><pre>KMeans(n_clusters=5, n_init=20)</pre></div></div></div></div></div>"
            ]
          },
          "metadata": {},
          "execution_count": 86
        }
      ]
    },
    {
      "cell_type": "code",
      "source": [
        "cluster_labels = km.predict(x)"
      ],
      "metadata": {
        "id": "iuu8WG4NV_ZL"
      },
      "execution_count": 87,
      "outputs": []
    },
    {
      "cell_type": "code",
      "source": [
        "cluster_labels"
      ],
      "metadata": {
        "colab": {
          "base_uri": "https://localhost:8080/"
        },
        "id": "2kzo_78TV_-V",
        "outputId": "508c56de-4a4b-4430-a00c-89896ba9fe44"
      },
      "execution_count": 88,
      "outputs": [
        {
          "output_type": "execute_result",
          "data": {
            "text/plain": [
              "array([4, 4, 4, 4, 4, 4, 4, 4, 4, 2, 2, 2, 2, 2, 2, 2, 2, 2, 2, 2, 2, 2,\n",
              "       2, 2, 2, 2, 2, 2, 2, 2, 2, 2, 2, 1, 0, 0, 0, 0, 0, 0, 0, 1, 1, 1,\n",
              "       1, 1, 1, 1, 1, 1, 1, 1, 2, 2, 1, 3, 3, 3, 3, 3, 3, 3, 3, 3],\n",
              "      dtype=int32)"
            ]
          },
          "metadata": {},
          "execution_count": 88
        }
      ]
    },
    {
      "cell_type": "code",
      "source": [
        "pd.Series(cluster_labels).value_counts()"
      ],
      "metadata": {
        "colab": {
          "base_uri": "https://localhost:8080/"
        },
        "id": "cG4QnJRuWBtP",
        "outputId": "a225b1f2-d5df-45da-9978-1dc625807756"
      },
      "execution_count": 89,
      "outputs": [
        {
          "output_type": "execute_result",
          "data": {
            "text/plain": [
              "2    26\n",
              "1    13\n",
              "4     9\n",
              "3     9\n",
              "0     7\n",
              "dtype: int64"
            ]
          },
          "metadata": {},
          "execution_count": 89
        }
      ]
    },
    {
      "cell_type": "markdown",
      "source": [
        "**to know the optimum number of clusters ,we need elbow method(wcss (inertia)vs no of clusters plot)**"
      ],
      "metadata": {
        "id": "tIgBEAMhvXo2"
      }
    },
    {
      "cell_type": "code",
      "source": [
        "km.inertia_"
      ],
      "metadata": {
        "colab": {
          "base_uri": "https://localhost:8080/"
        },
        "id": "MwGjJBikWK2t",
        "outputId": "9f41a598-546a-43cf-b807-065e39b6e1ff"
      },
      "execution_count": 90,
      "outputs": [
        {
          "output_type": "execute_result",
          "data": {
            "text/plain": [
              "191534.76480611128"
            ]
          },
          "metadata": {},
          "execution_count": 90
        }
      ]
    },
    {
      "cell_type": "code",
      "source": [
        "inertia_list = []\n",
        "\n",
        "\n",
        "for i in range(1,11):\n",
        "  km = KMeans(n_clusters = i, n_init = 20)\n",
        "  km.fit(x)\n",
        "  inertia = km.inertia_\n",
        "  inertia_list.append(inertia)"
      ],
      "metadata": {
        "id": "_IbH2cJAWTBp"
      },
      "execution_count": 91,
      "outputs": []
    },
    {
      "cell_type": "code",
      "source": [
        "inertia_list"
      ],
      "metadata": {
        "colab": {
          "base_uri": "https://localhost:8080/"
        },
        "id": "5VjUrVvCWWVS",
        "outputId": "3024ae30-81c8-466a-9414-b73dedcfe116"
      },
      "execution_count": 92,
      "outputs": [
        {
          "output_type": "execute_result",
          "data": {
            "text/plain": [
              "[267862.4091291161,\n",
              " 236520.2316887343,\n",
              " 215896.8369424452,\n",
              " 200554.16363761117,\n",
              " 191576.24430491184,\n",
              " 185220.74809377122,\n",
              " 174420.21134460275,\n",
              " 169989.19012530363,\n",
              " 159721.46766460297,\n",
              " 154177.52394805528]"
            ]
          },
          "metadata": {},
          "execution_count": 92
        }
      ]
    },
    {
      "cell_type": "code",
      "source": [
        "import matplotlib.pyplot as plt"
      ],
      "metadata": {
        "id": "vR9GSr-gWjvo"
      },
      "execution_count": 93,
      "outputs": []
    },
    {
      "cell_type": "code",
      "source": [
        "plt.plot(range(1,11), inertia_list)\n",
        "plt.xlabel(\"Number of clusters\")\n",
        "plt.ylabel(\"Inertia\")\n",
        "plt.show();"
      ],
      "metadata": {
        "colab": {
          "base_uri": "https://localhost:8080/",
          "height": 449
        },
        "id": "e2Bx7xZpWd2o",
        "outputId": "bfb8eaac-72c4-4dd2-f22c-d9480e846f23"
      },
      "execution_count": 94,
      "outputs": [
        {
          "output_type": "display_data",
          "data": {
            "text/plain": [
              "<Figure size 640x480 with 1 Axes>"
            ],
            "image/png": "[encoded data removed]"
          },
          "metadata": {}
        }
      ]
    },
    {
      "cell_type": "code",
      "source": [
        "km = KMeans(n_clusters = 8, n_init = 20) ## we choose number of clusters as 8,as the inertia decreses after the point 8\n",
        "km.fit(x)\n",
        "cluster_labels = km.predict(x)"
      ],
      "metadata": {
        "id": "VHgfq6KHWiYc"
      },
      "execution_count": 95,
      "outputs": []
    },
    {
      "cell_type": "code",
      "source": [
        "cluster_labels"
      ],
      "metadata": {
        "colab": {
          "base_uri": "https://localhost:8080/"
        },
        "id": "1oEy_VbtW4-7",
        "outputId": "3f349293-71fc-4ceb-fad8-492ae3dba0a7"
      },
      "execution_count": 96,
      "outputs": [
        {
          "output_type": "execute_result",
          "data": {
            "text/plain": [
              "array([1, 1, 1, 1, 1, 1, 1, 1, 1, 1, 6, 1, 1, 6, 1, 6, 6, 1, 1, 1, 1, 1,\n",
              "       1, 6, 6, 6, 6, 6, 6, 6, 6, 6, 6, 6, 3, 3, 3, 5, 5, 5, 0, 6, 7, 7,\n",
              "       7, 7, 7, 7, 4, 4, 4, 4, 6, 0, 0, 2, 2, 2, 2, 2, 2, 2, 2, 2],\n",
              "      dtype=int32)"
            ]
          },
          "metadata": {},
          "execution_count": 96
        }
      ]
    },
    {
      "cell_type": "code",
      "source": [
        "import seaborn as sns"
      ],
      "metadata": {
        "id": "yxPqhG5iW85Q"
      },
      "execution_count": 97,
      "outputs": []
    },
    {
      "cell_type": "code",
      "source": [
        "x.mean()"
      ],
      "metadata": {
        "colab": {
          "base_uri": "https://localhost:8080/"
        },
        "id": "x45BU7euXeIq",
        "outputId": "802d798e-cccb-4ceb-f51c-7dbb2c0773d5"
      },
      "execution_count": 98,
      "outputs": [
        {
          "output_type": "execute_result",
          "data": {
            "text/plain": [
              "1      -0.019063\n",
              "2      -0.027813\n",
              "3      -0.019923\n",
              "4      -0.328673\n",
              "5       0.026093\n",
              "          ...   \n",
              "6826    0.153671\n",
              "6827    0.090775\n",
              "6828   -0.126798\n",
              "6829    0.129921\n",
              "6830    0.143514\n",
              "Length: 6830, dtype: float64"
            ]
          },
          "metadata": {},
          "execution_count": 98
        }
      ]
    },
    {
      "cell_type": "code",
      "source": [
        "x.var()"
      ],
      "metadata": {
        "colab": {
          "base_uri": "https://localhost:8080/"
        },
        "id": "bg8iZ9DIXsEP",
        "outputId": "424c811e-025d-4356-f20f-b497c239ffb2"
      },
      "execution_count": 99,
      "outputs": [
        {
          "output_type": "execute_result",
          "data": {
            "text/plain": [
              "1       0.194774\n",
              "2       0.573704\n",
              "3       0.187754\n",
              "4       1.192257\n",
              "5       0.235296\n",
              "          ...   \n",
              "6826    0.854315\n",
              "6827    1.462014\n",
              "6828    0.619583\n",
              "6829    0.320699\n",
              "6830    2.278022\n",
              "Length: 6830, dtype: float64"
            ]
          },
          "metadata": {},
          "execution_count": 99
        }
      ]
    },
    {
      "cell_type": "code",
      "source": [
        "from sklearn.preprocessing import scale ## we scaled the data"
      ],
      "metadata": {
        "id": "0yYcad9LXtSo"
      },
      "execution_count": 100,
      "outputs": []
    },
    {
      "cell_type": "code",
      "source": [
        "X = pd.DataFrame(scale(x), index = x.index, columns = x.columns)\n"
      ],
      "metadata": {
        "id": "YOp5TwVOXyp1"
      },
      "execution_count": 101,
      "outputs": []
    },
    {
      "cell_type": "code",
      "source": [
        "X.corr() ## we check the correlation between each of the features"
      ],
      "metadata": {
        "colab": {
          "base_uri": "https://localhost:8080/",
          "height": 488
        },
        "id": "Kar3FaqjcPBG",
        "outputId": "b6844e69-1d94-4d05-e50d-f43c309cfa6f"
      },
      "execution_count": 102,
      "outputs": [
        {
          "output_type": "execute_result",
          "data": {
            "text/plain": [
              "             1         2         3         4         5         6         7  \\\n",
              "1     1.000000  0.369523  0.224803  0.072525 -0.111652  0.082434  0.102550   \n",
              "2     0.369523  1.000000  0.365087  0.234746  0.156462  0.190006  0.347300   \n",
              "3     0.224803  0.365087  1.000000  0.234463  0.105175  0.025614  0.101811   \n",
              "4     0.072525  0.234746  0.234463  1.000000  0.139227  0.072153  0.050299   \n",
              "5    -0.111652  0.156462  0.105175  0.139227  1.000000  0.252648  0.249501   \n",
              "...        ...       ...       ...       ...       ...       ...       ...   \n",
              "6826 -0.039783 -0.048616 -0.125612 -0.196066  0.091374 -0.179371  0.179991   \n",
              "6827 -0.036840  0.007148 -0.035144  0.007615  0.069646 -0.290953  0.105614   \n",
              "6828 -0.007935 -0.083373  0.116060 -0.050696 -0.025194 -0.223602  0.046420   \n",
              "6829 -0.082233 -0.042292  0.095782 -0.042771  0.028185 -0.223896 -0.096546   \n",
              "6830 -0.068994 -0.046844  0.080308  0.010048 -0.048320 -0.217493 -0.193918   \n",
              "\n",
              "             8         9        10  ...      6821      6822      6823  \\\n",
              "1     0.383263  0.146702  0.200520  ... -0.001301 -0.110626 -0.104605   \n",
              "2     0.046215  0.259777  0.043624  ... -0.019406 -0.100822 -0.036153   \n",
              "3     0.008317 -0.044394  0.223556  ...  0.054223  0.026336  0.078713   \n",
              "4    -0.117858  0.032301 -0.157428  ... -0.183226 -0.237242 -0.193870   \n",
              "5    -0.071547 -0.044091 -0.150494  ... -0.157010 -0.202877 -0.146788   \n",
              "...        ...       ...       ...  ...       ...       ...       ...   \n",
              "6826  0.126909  0.108572  0.126070  ...  0.315583  0.375700  0.399367   \n",
              "6827  0.085815  0.016968  0.048932  ...  0.403075  0.438254  0.476920   \n",
              "6828  0.175311 -0.061362  0.123515  ...  0.204978  0.342030  0.372787   \n",
              "6829  0.033388  0.015082  0.195558  ...  0.072621  0.162107  0.298043   \n",
              "6830  0.014713  0.026882  0.226114  ...  0.050775  0.238606  0.287673   \n",
              "\n",
              "          6824      6825      6826      6827      6828      6829      6830  \n",
              "1    -0.175310 -0.201395 -0.039783 -0.036840 -0.007935 -0.082233 -0.068994  \n",
              "2     0.002595  0.016097 -0.048616  0.007148 -0.083373 -0.042292 -0.046844  \n",
              "3     0.051154  0.075279 -0.125612 -0.035144  0.116060  0.095782  0.080308  \n",
              "4    -0.230741 -0.081435 -0.196066  0.007615 -0.050696 -0.042771  0.010048  \n",
              "5    -0.080164 -0.119049  0.091374  0.069646 -0.025194  0.028185 -0.048320  \n",
              "...        ...       ...       ...       ...       ...       ...       ...  \n",
              "6826  0.367797  0.420911  1.000000  0.802684  0.450702  0.372070  0.295309  \n",
              "6827  0.344669  0.408825  0.802684  1.000000  0.422170  0.386220  0.329532  \n",
              "6828  0.327562  0.319074  0.450702  0.422170  1.000000  0.433611  0.304976  \n",
              "6829  0.189013  0.387155  0.372070  0.386220  0.433611  1.000000  0.737903  \n",
              "6830  0.254872  0.361875  0.295309  0.329532  0.304976  0.737903  1.000000  \n",
              "\n",
              "[6830 rows x 6830 columns]"
            ],
            "text/html": [
              "\n",
              "  <div id=\"df-28dd4c18-2fe5-4ccb-95e3-2bf6c6e40796\">\n",
              "    <div class=\"colab-df-container\">\n",
              "      <div>\n",
              "<style scoped>\n",
              "    .dataframe tbody tr th:only-of-type {\n",
              "        vertical-align: middle;\n",
              "    }\n",
              "\n",
              "    .dataframe tbody tr th {\n",
              "        vertical-align: top;\n",
              "    }\n",
              "\n",
              "    .dataframe thead th {\n",
              "        text-align: right;\n",
              "    }\n",
              "</style>\n",
              "<table border=\"1\" class=\"dataframe\">\n",
              "  <thead>\n",
              "    <tr style=\"text-align: right;\">\n",
              "      <th></th>\n",
              "      <th>1</th>\n",
              "      <th>2</th>\n",
              "      <th>3</th>\n",
              "      <th>4</th>\n",
              "      <th>5</th>\n",
              "      <th>6</th>\n",
              "      <th>7</th>\n",
              "      <th>8</th>\n",
              "      <th>9</th>\n",
              "      <th>10</th>\n",
              "      <th>...</th>\n",
              "      <th>6821</th>\n",
              "      <th>6822</th>\n",
              "      <th>6823</th>\n",
              "      <th>6824</th>\n",
              "      <th>6825</th>\n",
              "      <th>6826</th>\n",
              "      <th>6827</th>\n",
              "      <th>6828</th>\n",
              "      <th>6829</th>\n",
              "      <th>6830</th>\n",
              "    </tr>\n",
              "  </thead>\n",
              "  <tbody>\n",
              "    <tr>\n",
              "      <th>1</th>\n",
              "      <td>1.000000</td>\n",
              "      <td>0.369523</td>\n",
              "      <td>0.224803</td>\n",
              "      <td>0.072525</td>\n",
              "      <td>-0.111652</td>\n",
              "      <td>0.082434</td>\n",
              "      <td>0.102550</td>\n",
              "      <td>0.383263</td>\n",
              "      <td>0.146702</td>\n",
              "      <td>0.200520</td>\n",
              "      <td>...</td>\n",
              "      <td>-0.001301</td>\n",
              "      <td>-0.110626</td>\n",
              "      <td>-0.104605</td>\n",
              "      <td>-0.175310</td>\n",
              "      <td>-0.201395</td>\n",
              "      <td>-0.039783</td>\n",
              "      <td>-0.036840</td>\n",
              "      <td>-0.007935</td>\n",
              "      <td>-0.082233</td>\n",
              "      <td>-0.068994</td>\n",
              "    </tr>\n",
              "    <tr>\n",
              "      <th>2</th>\n",
              "      <td>0.369523</td>\n",
              "      <td>1.000000</td>\n",
              "      <td>0.365087</td>\n",
              "      <td>0.234746</td>\n",
              "      <td>0.156462</td>\n",
              "      <td>0.190006</td>\n",
              "      <td>0.347300</td>\n",
              "      <td>0.046215</td>\n",
              "      <td>0.259777</td>\n",
              "      <td>0.043624</td>\n",
              "      <td>...</td>\n",
              "      <td>-0.019406</td>\n",
              "      <td>-0.100822</td>\n",
              "      <td>-0.036153</td>\n",
              "      <td>0.002595</td>\n",
              "      <td>0.016097</td>\n",
              "      <td>-0.048616</td>\n",
              "      <td>0.007148</td>\n",
              "      <td>-0.083373</td>\n",
              "      <td>-0.042292</td>\n",
              "      <td>-0.046844</td>\n",
              "    </tr>\n",
              "    <tr>\n",
              "      <th>3</th>\n",
              "      <td>0.224803</td>\n",
              "      <td>0.365087</td>\n",
              "      <td>1.000000</td>\n",
              "      <td>0.234463</td>\n",
              "      <td>0.105175</td>\n",
              "      <td>0.025614</td>\n",
              "      <td>0.101811</td>\n",
              "      <td>0.008317</td>\n",
              "      <td>-0.044394</td>\n",
              "      <td>0.223556</td>\n",
              "      <td>...</td>\n",
              "      <td>0.054223</td>\n",
              "      <td>0.026336</td>\n",
              "      <td>0.078713</td>\n",
              "      <td>0.051154</td>\n",
              "      <td>0.075279</td>\n",
              "      <td>-0.125612</td>\n",
              "      <td>-0.035144</td>\n",
              "      <td>0.116060</td>\n",
              "      <td>0.095782</td>\n",
              "      <td>0.080308</td>\n",
              "    </tr>\n",
              "    <tr>\n",
              "      <th>4</th>\n",
              "      <td>0.072525</td>\n",
              "      <td>0.234746</td>\n",
              "      <td>0.234463</td>\n",
              "      <td>1.000000</td>\n",
              "      <td>0.139227</td>\n",
              "      <td>0.072153</td>\n",
              "      <td>0.050299</td>\n",
              "      <td>-0.117858</td>\n",
              "      <td>0.032301</td>\n",
              "      <td>-0.157428</td>\n",
              "      <td>...</td>\n",
              "      <td>-0.183226</td>\n",
              "      <td>-0.237242</td>\n",
              "      <td>-0.193870</td>\n",
              "      <td>-0.230741</td>\n",
              "      <td>-0.081435</td>\n",
              "      <td>-0.196066</td>\n",
              "      <td>0.007615</td>\n",
              "      <td>-0.050696</td>\n",
              "      <td>-0.042771</td>\n",
              "      <td>0.010048</td>\n",
              "    </tr>\n",
              "    <tr>\n",
              "      <th>5</th>\n",
              "      <td>-0.111652</td>\n",
              "      <td>0.156462</td>\n",
              "      <td>0.105175</td>\n",
              "      <td>0.139227</td>\n",
              "      <td>1.000000</td>\n",
              "      <td>0.252648</td>\n",
              "      <td>0.249501</td>\n",
              "      <td>-0.071547</td>\n",
              "      <td>-0.044091</td>\n",
              "      <td>-0.150494</td>\n",
              "      <td>...</td>\n",
              "      <td>-0.157010</td>\n",
              "      <td>-0.202877</td>\n",
              "      <td>-0.146788</td>\n",
              "      <td>-0.080164</td>\n",
              "      <td>-0.119049</td>\n",
              "      <td>0.091374</td>\n",
              "      <td>0.069646</td>\n",
              "      <td>-0.025194</td>\n",
              "      <td>0.028185</td>\n",
              "      <td>-0.048320</td>\n",
              "    </tr>\n",
              "    <tr>\n",
              "      <th>...</th>\n",
              "      <td>...</td>\n",
              "      <td>...</td>\n",
              "      <td>...</td>\n",
              "      <td>...</td>\n",
              "      <td>...</td>\n",
              "      <td>...</td>\n",
              "      <td>...</td>\n",
              "      <td>...</td>\n",
              "      <td>...</td>\n",
              "      <td>...</td>\n",
              "      <td>...</td>\n",
              "      <td>...</td>\n",
              "      <td>...</td>\n",
              "      <td>...</td>\n",
              "      <td>...</td>\n",
              "      <td>...</td>\n",
              "      <td>...</td>\n",
              "      <td>...</td>\n",
              "      <td>...</td>\n",
              "      <td>...</td>\n",
              "      <td>...</td>\n",
              "    </tr>\n",
              "    <tr>\n",
              "      <th>6826</th>\n",
              "      <td>-0.039783</td>\n",
              "      <td>-0.048616</td>\n",
              "      <td>-0.125612</td>\n",
              "      <td>-0.196066</td>\n",
              "      <td>0.091374</td>\n",
              "      <td>-0.179371</td>\n",
              "      <td>0.179991</td>\n",
              "      <td>0.126909</td>\n",
              "      <td>0.108572</td>\n",
              "      <td>0.126070</td>\n",
              "      <td>...</td>\n",
              "      <td>0.315583</td>\n",
              "      <td>0.375700</td>\n",
              "      <td>0.399367</td>\n",
              "      <td>0.367797</td>\n",
              "      <td>0.420911</td>\n",
              "      <td>1.000000</td>\n",
              "      <td>0.802684</td>\n",
              "      <td>0.450702</td>\n",
              "      <td>0.372070</td>\n",
              "      <td>0.295309</td>\n",
              "    </tr>\n",
              "    <tr>\n",
              "      <th>6827</th>\n",
              "      <td>-0.036840</td>\n",
              "      <td>0.007148</td>\n",
              "      <td>-0.035144</td>\n",
              "      <td>0.007615</td>\n",
              "      <td>0.069646</td>\n",
              "      <td>-0.290953</td>\n",
              "      <td>0.105614</td>\n",
              "      <td>0.085815</td>\n",
              "      <td>0.016968</td>\n",
              "      <td>0.048932</td>\n",
              "      <td>...</td>\n",
              "      <td>0.403075</td>\n",
              "      <td>0.438254</td>\n",
              "      <td>0.476920</td>\n",
              "      <td>0.344669</td>\n",
              "      <td>0.408825</td>\n",
              "      <td>0.802684</td>\n",
              "      <td>1.000000</td>\n",
              "      <td>0.422170</td>\n",
              "      <td>0.386220</td>\n",
              "      <td>0.329532</td>\n",
              "    </tr>\n",
              "    <tr>\n",
              "      <th>6828</th>\n",
              "      <td>-0.007935</td>\n",
              "      <td>-0.083373</td>\n",
              "      <td>0.116060</td>\n",
              "      <td>-0.050696</td>\n",
              "      <td>-0.025194</td>\n",
              "      <td>-0.223602</td>\n",
              "      <td>0.046420</td>\n",
              "      <td>0.175311</td>\n",
              "      <td>-0.061362</td>\n",
              "      <td>0.123515</td>\n",
              "      <td>...</td>\n",
              "      <td>0.204978</td>\n",
              "      <td>0.342030</td>\n",
              "      <td>0.372787</td>\n",
              "      <td>0.327562</td>\n",
              "      <td>0.319074</td>\n",
              "      <td>0.450702</td>\n",
              "      <td>0.422170</td>\n",
              "      <td>1.000000</td>\n",
              "      <td>0.433611</td>\n",
              "      <td>0.304976</td>\n",
              "    </tr>\n",
              "    <tr>\n",
              "      <th>6829</th>\n",
              "      <td>-0.082233</td>\n",
              "      <td>-0.042292</td>\n",
              "      <td>0.095782</td>\n",
              "      <td>-0.042771</td>\n",
              "      <td>0.028185</td>\n",
              "      <td>-0.223896</td>\n",
              "      <td>-0.096546</td>\n",
              "      <td>0.033388</td>\n",
              "      <td>0.015082</td>\n",
              "      <td>0.195558</td>\n",
              "      <td>...</td>\n",
              "      <td>0.072621</td>\n",
              "      <td>0.162107</td>\n",
              "      <td>0.298043</td>\n",
              "      <td>0.189013</td>\n",
              "      <td>0.387155</td>\n",
              "      <td>0.372070</td>\n",
              "      <td>0.386220</td>\n",
              "      <td>0.433611</td>\n",
              "      <td>1.000000</td>\n",
              "      <td>0.737903</td>\n",
              "    </tr>\n",
              "    <tr>\n",
              "      <th>6830</th>\n",
              "      <td>-0.068994</td>\n",
              "      <td>-0.046844</td>\n",
              "      <td>0.080308</td>\n",
              "      <td>0.010048</td>\n",
              "      <td>-0.048320</td>\n",
              "      <td>-0.217493</td>\n",
              "      <td>-0.193918</td>\n",
              "      <td>0.014713</td>\n",
              "      <td>0.026882</td>\n",
              "      <td>0.226114</td>\n",
              "      <td>...</td>\n",
              "      <td>0.050775</td>\n",
              "      <td>0.238606</td>\n",
              "      <td>0.287673</td>\n",
              "      <td>0.254872</td>\n",
              "      <td>0.361875</td>\n",
              "      <td>0.295309</td>\n",
              "      <td>0.329532</td>\n",
              "      <td>0.304976</td>\n",
              "      <td>0.737903</td>\n",
              "      <td>1.000000</td>\n",
              "    </tr>\n",
              "  </tbody>\n",
              "</table>\n",
              "<p>6830 rows × 6830 columns</p>\n",
              "</div>\n",
              "      <button class=\"colab-df-convert\" onclick=\"convertToInteractive('df-28dd4c18-2fe5-4ccb-95e3-2bf6c6e40796')\"\n",
              "              title=\"Convert this dataframe to an interactive table.\"\n",
              "              style=\"display:none;\">\n",
              "        \n",
              "  <svg xmlns=\"http://www.w3.org/2000/svg\" height=\"24px\"viewBox=\"0 0 24 24\"\n",
              "       width=\"24px\">\n",
              "    <path d=\"M0 0h24v24H0V0z\" fill=\"none\"/>\n",
              "    <path d=\"M18.56 5.44l.94 2.06.94-2.06 2.06-.94-2.06-.94-.94-2.06-.94 2.06-2.06.94zm-11 1L8.5 8.5l.94-2.06 2.06-.94-2.06-.94L8.5 2.5l-.94 2.06-2.06.94zm10 10l.94 2.06.94-2.06 2.06-.94-2.06-.94-.94-2.06-.94 2.06-2.06.94z\"/><path d=\"M17.41 7.96l-1.37-1.37c-.4-.4-.92-.59-1.43-.59-.52 0-1.04.2-1.43.59L10.3 9.45l-7.72 7.72c-.78.78-.78 2.05 0 2.83L4 21.41c.39.39.9.59 1.41.59.51 0 1.02-.2 1.41-.59l7.78-7.78 2.81-2.81c.8-.78.8-2.07 0-2.86zM5.41 20L4 18.59l7.72-7.72 1.47 1.35L5.41 20z\"/>\n",
              "  </svg>\n",
              "      </button>\n",
              "      \n",
              "  <style>\n",
              "    .colab-df-container {\n",
              "      display:flex;\n",
              "      flex-wrap:wrap;\n",
              "      gap: 12px;\n",
              "    }\n",
              "\n",
              "    .colab-df-convert {\n",
              "      background-color: #E8F0FE;\n",
              "      border: none;\n",
              "      border-radius: 50%;\n",
              "      cursor: pointer;\n",
              "      display: none;\n",
              "      fill: #1967D2;\n",
              "      height: 32px;\n",
              "      padding: 0 0 0 0;\n",
              "      width: 32px;\n",
              "    }\n",
              "\n",
              "    .colab-df-convert:hover {\n",
              "      background-color: #E2EBFA;\n",
              "      box-shadow: 0px 1px 2px rgba(60, 64, 67, 0.3), 0px 1px 3px 1px rgba(60, 64, 67, 0.15);\n",
              "      fill: #174EA6;\n",
              "    }\n",
              "\n",
              "    [theme=dark] .colab-df-convert {\n",
              "      background-color: #3B4455;\n",
              "      fill: #D2E3FC;\n",
              "    }\n",
              "\n",
              "    [theme=dark] .colab-df-convert:hover {\n",
              "      background-color: #434B5C;\n",
              "      box-shadow: 0px 1px 3px 1px rgba(0, 0, 0, 0.15);\n",
              "      filter: drop-shadow(0px 1px 2px rgba(0, 0, 0, 0.3));\n",
              "      fill: #FFFFFF;\n",
              "    }\n",
              "  </style>\n",
              "\n",
              "      <script>\n",
              "        const buttonEl =\n",
              "          document.querySelector('#df-28dd4c18-2fe5-4ccb-95e3-2bf6c6e40796 button.colab-df-convert');\n",
              "        buttonEl.style.display =\n",
              "          google.colab.kernel.accessAllowed ? 'block' : 'none';\n",
              "\n",
              "        async function convertToInteractive(key) {\n",
              "          const element = document.querySelector('#df-28dd4c18-2fe5-4ccb-95e3-2bf6c6e40796');\n",
              "          const dataTable =\n",
              "            await google.colab.kernel.invokeFunction('convertToInteractive',\n",
              "                                                     [key], {});\n",
              "          if (!dataTable) return;\n",
              "\n",
              "          const docLinkHtml = 'Like what you see? Visit the ' +\n",
              "            '<a target=\"_blank\" href=https://colab.research.google.com/notebooks/data_table.ipynb>data table notebook</a>'\n",
              "            + ' to learn more about interactive tables.';\n",
              "          element.innerHTML = '';\n",
              "          dataTable['output_type'] = 'display_data';\n",
              "          await google.colab.output.renderOutput(dataTable, element);\n",
              "          const docLink = document.createElement('div');\n",
              "          docLink.innerHTML = docLinkHtml;\n",
              "          element.appendChild(docLink);\n",
              "        }\n",
              "      </script>\n",
              "    </div>\n",
              "  </div>\n",
              "  "
            ]
          },
          "metadata": {},
          "execution_count": 102
        }
      ]
    },
    {
      "cell_type": "code",
      "source": [
        "from sklearn.decomposition import PCA"
      ],
      "metadata": {
        "id": "H3uHcWGOYDj3"
      },
      "execution_count": 103,
      "outputs": []
    },
    {
      "cell_type": "code",
      "source": [
        "pc = PCA(n_components = 64)"
      ],
      "metadata": {
        "id": "_K_2W9n6YHEs"
      },
      "execution_count": 104,
      "outputs": []
    },
    {
      "cell_type": "code",
      "source": [
        "pc_array = pc.fit_transform(X)"
      ],
      "metadata": {
        "id": "w24W5Y1AZfJH"
      },
      "execution_count": 105,
      "outputs": []
    },
    {
      "cell_type": "code",
      "source": [
        "pc_array.shape"
      ],
      "metadata": {
        "colab": {
          "base_uri": "https://localhost:8080/"
        },
        "id": "DEh7GKYcZfwd",
        "outputId": "838ab2aa-5b03-42e6-e8ad-0e53d2a80213"
      },
      "execution_count": 106,
      "outputs": [
        {
          "output_type": "execute_result",
          "data": {
            "text/plain": [
              "(64, 64)"
            ]
          },
          "metadata": {},
          "execution_count": 106
        }
      ]
    },
    {
      "cell_type": "code",
      "source": [
        "columns_new = []\n",
        "i = 0\n",
        "\n",
        "\n",
        "for i in range(1,65):\n",
        "  col = 'pc'+ str(i)\n",
        "  \n",
        "  columns_new.append(col)\n",
        "  "
      ],
      "metadata": {
        "id": "e4HgGDRqZ786"
      },
      "execution_count": 107,
      "outputs": []
    },
    {
      "cell_type": "code",
      "source": [
        "columns_new"
      ],
      "metadata": {
        "colab": {
          "base_uri": "https://localhost:8080/"
        },
        "id": "auNyYigEa2Ku",
        "outputId": "5725d53a-3205-4d37-a950-342c37712804"
      },
      "execution_count": 108,
      "outputs": [
        {
          "output_type": "execute_result",
          "data": {
            "text/plain": [
              "['pc1',\n",
              " 'pc2',\n",
              " 'pc3',\n",
              " 'pc4',\n",
              " 'pc5',\n",
              " 'pc6',\n",
              " 'pc7',\n",
              " 'pc8',\n",
              " 'pc9',\n",
              " 'pc10',\n",
              " 'pc11',\n",
              " 'pc12',\n",
              " 'pc13',\n",
              " 'pc14',\n",
              " 'pc15',\n",
              " 'pc16',\n",
              " 'pc17',\n",
              " 'pc18',\n",
              " 'pc19',\n",
              " 'pc20',\n",
              " 'pc21',\n",
              " 'pc22',\n",
              " 'pc23',\n",
              " 'pc24',\n",
              " 'pc25',\n",
              " 'pc26',\n",
              " 'pc27',\n",
              " 'pc28',\n",
              " 'pc29',\n",
              " 'pc30',\n",
              " 'pc31',\n",
              " 'pc32',\n",
              " 'pc33',\n",
              " 'pc34',\n",
              " 'pc35',\n",
              " 'pc36',\n",
              " 'pc37',\n",
              " 'pc38',\n",
              " 'pc39',\n",
              " 'pc40',\n",
              " 'pc41',\n",
              " 'pc42',\n",
              " 'pc43',\n",
              " 'pc44',\n",
              " 'pc45',\n",
              " 'pc46',\n",
              " 'pc47',\n",
              " 'pc48',\n",
              " 'pc49',\n",
              " 'pc50',\n",
              " 'pc51',\n",
              " 'pc52',\n",
              " 'pc53',\n",
              " 'pc54',\n",
              " 'pc55',\n",
              " 'pc56',\n",
              " 'pc57',\n",
              " 'pc58',\n",
              " 'pc59',\n",
              " 'pc60',\n",
              " 'pc61',\n",
              " 'pc62',\n",
              " 'pc63',\n",
              " 'pc64']"
            ]
          },
          "metadata": {},
          "execution_count": 108
        }
      ]
    },
    {
      "cell_type": "code",
      "source": [
        "pc_data = pd.DataFrame(pc_array, columns = columns_new)"
      ],
      "metadata": {
        "id": "DWhkDaSZZh8d"
      },
      "execution_count": 109,
      "outputs": []
    },
    {
      "cell_type": "code",
      "source": [
        "pc_data"
      ],
      "metadata": {
        "colab": {
          "base_uri": "https://localhost:8080/",
          "height": 661
        },
        "id": "2WYihysub1fP",
        "outputId": "001fb94c-8d30-465e-f2ea-faad38ea55f9"
      },
      "execution_count": 110,
      "outputs": [
        {
          "output_type": "execute_result",
          "data": {
            "text/plain": [
              "          pc1        pc2        pc3        pc4        pc5        pc6  \\\n",
              "0  -19.838042  -3.555636  -9.812399  -0.824246  12.609984   7.471505   \n",
              "1  -23.089215  -6.441460 -13.478251   5.635308   8.035496   3.715178   \n",
              "2  -27.456114  -2.465143  -3.533054  -1.341673  12.564846  17.344925   \n",
              "3  -42.816801   9.768358  -0.890073   3.445043  42.269904  27.238815   \n",
              "4  -55.418530   5.198897 -21.094558  15.849712  10.443273  12.991051   \n",
              "..        ...        ...        ...        ...        ...        ...   \n",
              "59 -17.996242  47.242414   5.398941 -17.405145  -0.293594  -7.429801   \n",
              "60  -4.415510  42.309563   8.715183  -2.805833   5.716318  -3.375639   \n",
              "61 -22.966988  36.102038  18.116579  -7.579957   5.874271   0.570517   \n",
              "62 -19.176007  50.398441   4.211153  -3.041732  -8.347417  -3.660122   \n",
              "63 -13.232870  35.125249   3.433554  -2.174010  -1.001003  -4.971377   \n",
              "\n",
              "          pc7        pc8        pc9       pc10  ...      pc55       pc56  \\\n",
              "0   14.190730  -3.197977  21.938350 -20.369363  ... -3.571612 -11.111674   \n",
              "1   10.143225  -7.292724  22.338284 -13.119764  ...  3.378131   5.232259   \n",
              "2   10.354857  -2.671282  -0.234926  -6.357967  ...  1.299500   5.323021   \n",
              "3   17.520642  -0.554341  14.264354  15.969204  ... -0.342635  -1.117879   \n",
              "4   12.597895  32.513096  -7.896805 -10.177263  ... -0.264565  -2.311955   \n",
              "..        ...        ...        ...        ...  ...       ...        ...   \n",
              "59 -15.572290  22.270195  -2.897352  22.387769  ... -0.799871 -12.253771   \n",
              "60 -11.918083   6.707284   1.845688   3.411293  ... -9.943943  13.037002   \n",
              "61  -7.703801  -5.585683  -5.160482  13.450721  ... -9.992050   2.294835   \n",
              "62  -2.023234  11.885016  -4.124961 -12.922132  ...  4.893907   1.925993   \n",
              "63 -10.267870   3.626666  -2.299100  14.867439  ...  4.845999   1.417117   \n",
              "\n",
              "        pc57      pc58      pc59      pc60      pc61      pc62      pc63  \\\n",
              "0   6.336264  9.077897 -3.892561 -3.240788  0.446627  0.392266 -0.894904   \n",
              "1  -6.325341 -7.665590  3.938798  4.018298 -0.617127 -0.776330  0.969009   \n",
              "2  -4.867172 -0.044978  2.027836 -1.089818 -1.695444  0.498405 -0.844418   \n",
              "3   2.511719  6.390061 -3.429572 -0.705737 -1.372244  1.427329  0.735637   \n",
              "4   2.926478 -1.870319  2.295689  0.614378  2.577214 -0.557610 -0.576024   \n",
              "..       ...       ...       ...       ...       ...       ...       ...   \n",
              "59  5.017202  8.529950  4.263580 -3.510030 -3.253202  1.358311 -0.379709   \n",
              "60  5.703453 -9.154761 -3.763392  3.066959  1.931465 -0.929279 -0.469700   \n",
              "61 -4.471902  3.623403 -1.155455  0.069896  0.090374 -0.337372 -0.268801   \n",
              "62 -2.909624 -1.026299 -5.466240  1.499262 -0.317515 -1.515080  1.011507   \n",
              "63 -2.597536 -0.079785  0.211567  1.307060  0.635823  0.592331 -0.670834   \n",
              "\n",
              "            pc64  \n",
              "0   1.236942e-14  \n",
              "1   1.236942e-14  \n",
              "2   1.236942e-14  \n",
              "3   1.236942e-14  \n",
              "4   1.236942e-14  \n",
              "..           ...  \n",
              "59  1.236942e-14  \n",
              "60  1.236942e-14  \n",
              "61  1.236942e-14  \n",
              "62  1.236942e-14  \n",
              "63  1.236942e-14  \n",
              "\n",
              "[64 rows x 64 columns]"
            ],
            "text/html": [
              "\n",
              "  <div id=\"df-a4746fe5-f9c7-4b0c-9d89-a025b9bdc051\">\n",
              "    <div class=\"colab-df-container\">\n",
              "      <div>\n",
              "<style scoped>\n",
              "    .dataframe tbody tr th:only-of-type {\n",
              "        vertical-align: middle;\n",
              "    }\n",
              "\n",
              "    .dataframe tbody tr th {\n",
              "        vertical-align: top;\n",
              "    }\n",
              "\n",
              "    .dataframe thead th {\n",
              "        text-align: right;\n",
              "    }\n",
              "</style>\n",
              "<table border=\"1\" class=\"dataframe\">\n",
              "  <thead>\n",
              "    <tr style=\"text-align: right;\">\n",
              "      <th></th>\n",
              "      <th>pc1</th>\n",
              "      <th>pc2</th>\n",
              "      <th>pc3</th>\n",
              "      <th>pc4</th>\n",
              "      <th>pc5</th>\n",
              "      <th>pc6</th>\n",
              "      <th>pc7</th>\n",
              "      <th>pc8</th>\n",
              "      <th>pc9</th>\n",
              "      <th>pc10</th>\n",
              "      <th>...</th>\n",
              "      <th>pc55</th>\n",
              "      <th>pc56</th>\n",
              "      <th>pc57</th>\n",
              "      <th>pc58</th>\n",
              "      <th>pc59</th>\n",
              "      <th>pc60</th>\n",
              "      <th>pc61</th>\n",
              "      <th>pc62</th>\n",
              "      <th>pc63</th>\n",
              "      <th>pc64</th>\n",
              "    </tr>\n",
              "  </thead>\n",
              "  <tbody>\n",
              "    <tr>\n",
              "      <th>0</th>\n",
              "      <td>-19.838042</td>\n",
              "      <td>-3.555636</td>\n",
              "      <td>-9.812399</td>\n",
              "      <td>-0.824246</td>\n",
              "      <td>12.609984</td>\n",
              "      <td>7.471505</td>\n",
              "      <td>14.190730</td>\n",
              "      <td>-3.197977</td>\n",
              "      <td>21.938350</td>\n",
              "      <td>-20.369363</td>\n",
              "      <td>...</td>\n",
              "      <td>-3.571612</td>\n",
              "      <td>-11.111674</td>\n",
              "      <td>6.336264</td>\n",
              "      <td>9.077897</td>\n",
              "      <td>-3.892561</td>\n",
              "      <td>-3.240788</td>\n",
              "      <td>0.446627</td>\n",
              "      <td>0.392266</td>\n",
              "      <td>-0.894904</td>\n",
              "      <td>1.236942e-14</td>\n",
              "    </tr>\n",
              "    <tr>\n",
              "      <th>1</th>\n",
              "      <td>-23.089215</td>\n",
              "      <td>-6.441460</td>\n",
              "      <td>-13.478251</td>\n",
              "      <td>5.635308</td>\n",
              "      <td>8.035496</td>\n",
              "      <td>3.715178</td>\n",
              "      <td>10.143225</td>\n",
              "      <td>-7.292724</td>\n",
              "      <td>22.338284</td>\n",
              "      <td>-13.119764</td>\n",
              "      <td>...</td>\n",
              "      <td>3.378131</td>\n",
              "      <td>5.232259</td>\n",
              "      <td>-6.325341</td>\n",
              "      <td>-7.665590</td>\n",
              "      <td>3.938798</td>\n",
              "      <td>4.018298</td>\n",
              "      <td>-0.617127</td>\n",
              "      <td>-0.776330</td>\n",
              "      <td>0.969009</td>\n",
              "      <td>1.236942e-14</td>\n",
              "    </tr>\n",
              "    <tr>\n",
              "      <th>2</th>\n",
              "      <td>-27.456114</td>\n",
              "      <td>-2.465143</td>\n",
              "      <td>-3.533054</td>\n",
              "      <td>-1.341673</td>\n",
              "      <td>12.564846</td>\n",
              "      <td>17.344925</td>\n",
              "      <td>10.354857</td>\n",
              "      <td>-2.671282</td>\n",
              "      <td>-0.234926</td>\n",
              "      <td>-6.357967</td>\n",
              "      <td>...</td>\n",
              "      <td>1.299500</td>\n",
              "      <td>5.323021</td>\n",
              "      <td>-4.867172</td>\n",
              "      <td>-0.044978</td>\n",
              "      <td>2.027836</td>\n",
              "      <td>-1.089818</td>\n",
              "      <td>-1.695444</td>\n",
              "      <td>0.498405</td>\n",
              "      <td>-0.844418</td>\n",
              "      <td>1.236942e-14</td>\n",
              "    </tr>\n",
              "    <tr>\n",
              "      <th>3</th>\n",
              "      <td>-42.816801</td>\n",
              "      <td>9.768358</td>\n",
              "      <td>-0.890073</td>\n",
              "      <td>3.445043</td>\n",
              "      <td>42.269904</td>\n",
              "      <td>27.238815</td>\n",
              "      <td>17.520642</td>\n",
              "      <td>-0.554341</td>\n",
              "      <td>14.264354</td>\n",
              "      <td>15.969204</td>\n",
              "      <td>...</td>\n",
              "      <td>-0.342635</td>\n",
              "      <td>-1.117879</td>\n",
              "      <td>2.511719</td>\n",
              "      <td>6.390061</td>\n",
              "      <td>-3.429572</td>\n",
              "      <td>-0.705737</td>\n",
              "      <td>-1.372244</td>\n",
              "      <td>1.427329</td>\n",
              "      <td>0.735637</td>\n",
              "      <td>1.236942e-14</td>\n",
              "    </tr>\n",
              "    <tr>\n",
              "      <th>4</th>\n",
              "      <td>-55.418530</td>\n",
              "      <td>5.198897</td>\n",
              "      <td>-21.094558</td>\n",
              "      <td>15.849712</td>\n",
              "      <td>10.443273</td>\n",
              "      <td>12.991051</td>\n",
              "      <td>12.597895</td>\n",
              "      <td>32.513096</td>\n",
              "      <td>-7.896805</td>\n",
              "      <td>-10.177263</td>\n",
              "      <td>...</td>\n",
              "      <td>-0.264565</td>\n",
              "      <td>-2.311955</td>\n",
              "      <td>2.926478</td>\n",
              "      <td>-1.870319</td>\n",
              "      <td>2.295689</td>\n",
              "      <td>0.614378</td>\n",
              "      <td>2.577214</td>\n",
              "      <td>-0.557610</td>\n",
              "      <td>-0.576024</td>\n",
              "      <td>1.236942e-14</td>\n",
              "    </tr>\n",
              "    <tr>\n",
              "      <th>...</th>\n",
              "      <td>...</td>\n",
              "      <td>...</td>\n",
              "      <td>...</td>\n",
              "      <td>...</td>\n",
              "      <td>...</td>\n",
              "      <td>...</td>\n",
              "      <td>...</td>\n",
              "      <td>...</td>\n",
              "      <td>...</td>\n",
              "      <td>...</td>\n",
              "      <td>...</td>\n",
              "      <td>...</td>\n",
              "      <td>...</td>\n",
              "      <td>...</td>\n",
              "      <td>...</td>\n",
              "      <td>...</td>\n",
              "      <td>...</td>\n",
              "      <td>...</td>\n",
              "      <td>...</td>\n",
              "      <td>...</td>\n",
              "      <td>...</td>\n",
              "    </tr>\n",
              "    <tr>\n",
              "      <th>59</th>\n",
              "      <td>-17.996242</td>\n",
              "      <td>47.242414</td>\n",
              "      <td>5.398941</td>\n",
              "      <td>-17.405145</td>\n",
              "      <td>-0.293594</td>\n",
              "      <td>-7.429801</td>\n",
              "      <td>-15.572290</td>\n",
              "      <td>22.270195</td>\n",
              "      <td>-2.897352</td>\n",
              "      <td>22.387769</td>\n",
              "      <td>...</td>\n",
              "      <td>-0.799871</td>\n",
              "      <td>-12.253771</td>\n",
              "      <td>5.017202</td>\n",
              "      <td>8.529950</td>\n",
              "      <td>4.263580</td>\n",
              "      <td>-3.510030</td>\n",
              "      <td>-3.253202</td>\n",
              "      <td>1.358311</td>\n",
              "      <td>-0.379709</td>\n",
              "      <td>1.236942e-14</td>\n",
              "    </tr>\n",
              "    <tr>\n",
              "      <th>60</th>\n",
              "      <td>-4.415510</td>\n",
              "      <td>42.309563</td>\n",
              "      <td>8.715183</td>\n",
              "      <td>-2.805833</td>\n",
              "      <td>5.716318</td>\n",
              "      <td>-3.375639</td>\n",
              "      <td>-11.918083</td>\n",
              "      <td>6.707284</td>\n",
              "      <td>1.845688</td>\n",
              "      <td>3.411293</td>\n",
              "      <td>...</td>\n",
              "      <td>-9.943943</td>\n",
              "      <td>13.037002</td>\n",
              "      <td>5.703453</td>\n",
              "      <td>-9.154761</td>\n",
              "      <td>-3.763392</td>\n",
              "      <td>3.066959</td>\n",
              "      <td>1.931465</td>\n",
              "      <td>-0.929279</td>\n",
              "      <td>-0.469700</td>\n",
              "      <td>1.236942e-14</td>\n",
              "    </tr>\n",
              "    <tr>\n",
              "      <th>61</th>\n",
              "      <td>-22.966988</td>\n",
              "      <td>36.102038</td>\n",
              "      <td>18.116579</td>\n",
              "      <td>-7.579957</td>\n",
              "      <td>5.874271</td>\n",
              "      <td>0.570517</td>\n",
              "      <td>-7.703801</td>\n",
              "      <td>-5.585683</td>\n",
              "      <td>-5.160482</td>\n",
              "      <td>13.450721</td>\n",
              "      <td>...</td>\n",
              "      <td>-9.992050</td>\n",
              "      <td>2.294835</td>\n",
              "      <td>-4.471902</td>\n",
              "      <td>3.623403</td>\n",
              "      <td>-1.155455</td>\n",
              "      <td>0.069896</td>\n",
              "      <td>0.090374</td>\n",
              "      <td>-0.337372</td>\n",
              "      <td>-0.268801</td>\n",
              "      <td>1.236942e-14</td>\n",
              "    </tr>\n",
              "    <tr>\n",
              "      <th>62</th>\n",
              "      <td>-19.176007</td>\n",
              "      <td>50.398441</td>\n",
              "      <td>4.211153</td>\n",
              "      <td>-3.041732</td>\n",
              "      <td>-8.347417</td>\n",
              "      <td>-3.660122</td>\n",
              "      <td>-2.023234</td>\n",
              "      <td>11.885016</td>\n",
              "      <td>-4.124961</td>\n",
              "      <td>-12.922132</td>\n",
              "      <td>...</td>\n",
              "      <td>4.893907</td>\n",
              "      <td>1.925993</td>\n",
              "      <td>-2.909624</td>\n",
              "      <td>-1.026299</td>\n",
              "      <td>-5.466240</td>\n",
              "      <td>1.499262</td>\n",
              "      <td>-0.317515</td>\n",
              "      <td>-1.515080</td>\n",
              "      <td>1.011507</td>\n",
              "      <td>1.236942e-14</td>\n",
              "    </tr>\n",
              "    <tr>\n",
              "      <th>63</th>\n",
              "      <td>-13.232870</td>\n",
              "      <td>35.125249</td>\n",
              "      <td>3.433554</td>\n",
              "      <td>-2.174010</td>\n",
              "      <td>-1.001003</td>\n",
              "      <td>-4.971377</td>\n",
              "      <td>-10.267870</td>\n",
              "      <td>3.626666</td>\n",
              "      <td>-2.299100</td>\n",
              "      <td>14.867439</td>\n",
              "      <td>...</td>\n",
              "      <td>4.845999</td>\n",
              "      <td>1.417117</td>\n",
              "      <td>-2.597536</td>\n",
              "      <td>-0.079785</td>\n",
              "      <td>0.211567</td>\n",
              "      <td>1.307060</td>\n",
              "      <td>0.635823</td>\n",
              "      <td>0.592331</td>\n",
              "      <td>-0.670834</td>\n",
              "      <td>1.236942e-14</td>\n",
              "    </tr>\n",
              "  </tbody>\n",
              "</table>\n",
              "<p>64 rows × 64 columns</p>\n",
              "</div>\n",
              "      <button class=\"colab-df-convert\" onclick=\"convertToInteractive('df-a4746fe5-f9c7-4b0c-9d89-a025b9bdc051')\"\n",
              "              title=\"Convert this dataframe to an interactive table.\"\n",
              "              style=\"display:none;\">\n",
              "        \n",
              "  <svg xmlns=\"http://www.w3.org/2000/svg\" height=\"24px\"viewBox=\"0 0 24 24\"\n",
              "       width=\"24px\">\n",
              "    <path d=\"M0 0h24v24H0V0z\" fill=\"none\"/>\n",
              "    <path d=\"M18.56 5.44l.94 2.06.94-2.06 2.06-.94-2.06-.94-.94-2.06-.94 2.06-2.06.94zm-11 1L8.5 8.5l.94-2.06 2.06-.94-2.06-.94L8.5 2.5l-.94 2.06-2.06.94zm10 10l.94 2.06.94-2.06 2.06-.94-2.06-.94-.94-2.06-.94 2.06-2.06.94z\"/><path d=\"M17.41 7.96l-1.37-1.37c-.4-.4-.92-.59-1.43-.59-.52 0-1.04.2-1.43.59L10.3 9.45l-7.72 7.72c-.78.78-.78 2.05 0 2.83L4 21.41c.39.39.9.59 1.41.59.51 0 1.02-.2 1.41-.59l7.78-7.78 2.81-2.81c.8-.78.8-2.07 0-2.86zM5.41 20L4 18.59l7.72-7.72 1.47 1.35L5.41 20z\"/>\n",
              "  </svg>\n",
              "      </button>\n",
              "      \n",
              "  <style>\n",
              "    .colab-df-container {\n",
              "      display:flex;\n",
              "      flex-wrap:wrap;\n",
              "      gap: 12px;\n",
              "    }\n",
              "\n",
              "    .colab-df-convert {\n",
              "      background-color: #E8F0FE;\n",
              "      border: none;\n",
              "      border-radius: 50%;\n",
              "      cursor: pointer;\n",
              "      display: none;\n",
              "      fill: #1967D2;\n",
              "      height: 32px;\n",
              "      padding: 0 0 0 0;\n",
              "      width: 32px;\n",
              "    }\n",
              "\n",
              "    .colab-df-convert:hover {\n",
              "      background-color: #E2EBFA;\n",
              "      box-shadow: 0px 1px 2px rgba(60, 64, 67, 0.3), 0px 1px 3px 1px rgba(60, 64, 67, 0.15);\n",
              "      fill: #174EA6;\n",
              "    }\n",
              "\n",
              "    [theme=dark] .colab-df-convert {\n",
              "      background-color: #3B4455;\n",
              "      fill: #D2E3FC;\n",
              "    }\n",
              "\n",
              "    [theme=dark] .colab-df-convert:hover {\n",
              "      background-color: #434B5C;\n",
              "      box-shadow: 0px 1px 3px 1px rgba(0, 0, 0, 0.15);\n",
              "      filter: drop-shadow(0px 1px 2px rgba(0, 0, 0, 0.3));\n",
              "      fill: #FFFFFF;\n",
              "    }\n",
              "  </style>\n",
              "\n",
              "      <script>\n",
              "        const buttonEl =\n",
              "          document.querySelector('#df-a4746fe5-f9c7-4b0c-9d89-a025b9bdc051 button.colab-df-convert');\n",
              "        buttonEl.style.display =\n",
              "          google.colab.kernel.accessAllowed ? 'block' : 'none';\n",
              "\n",
              "        async function convertToInteractive(key) {\n",
              "          const element = document.querySelector('#df-a4746fe5-f9c7-4b0c-9d89-a025b9bdc051');\n",
              "          const dataTable =\n",
              "            await google.colab.kernel.invokeFunction('convertToInteractive',\n",
              "                                                     [key], {});\n",
              "          if (!dataTable) return;\n",
              "\n",
              "          const docLinkHtml = 'Like what you see? Visit the ' +\n",
              "            '<a target=\"_blank\" href=https://colab.research.google.com/notebooks/data_table.ipynb>data table notebook</a>'\n",
              "            + ' to learn more about interactive tables.';\n",
              "          element.innerHTML = '';\n",
              "          dataTable['output_type'] = 'display_data';\n",
              "          await google.colab.output.renderOutput(dataTable, element);\n",
              "          const docLink = document.createElement('div');\n",
              "          docLink.innerHTML = docLinkHtml;\n",
              "          element.appendChild(docLink);\n",
              "        }\n",
              "      </script>\n",
              "    </div>\n",
              "  </div>\n",
              "  "
            ]
          },
          "metadata": {},
          "execution_count": 110
        }
      ]
    },
    {
      "cell_type": "code",
      "source": [
        "pc_data.shape"
      ],
      "metadata": {
        "colab": {
          "base_uri": "https://localhost:8080/"
        },
        "id": "J3hwun4Ub5F4",
        "outputId": "a6e1707d-0484-459b-e2f3-fee34545fb35"
      },
      "execution_count": 111,
      "outputs": [
        {
          "output_type": "execute_result",
          "data": {
            "text/plain": [
              "(64, 64)"
            ]
          },
          "metadata": {},
          "execution_count": 111
        }
      ]
    },
    {
      "cell_type": "code",
      "source": [
        "pc_data.corr().round(1) ## after pca the correlatin is reduced to 0 and 1"
      ],
      "metadata": {
        "colab": {
          "base_uri": "https://localhost:8080/",
          "height": 424
        },
        "id": "4RbOHz1UcAL0",
        "outputId": "ef065125-afb6-4df0-e741-9992db9cdacc"
      },
      "execution_count": 112,
      "outputs": [
        {
          "output_type": "execute_result",
          "data": {
            "text/plain": [
              "      pc1  pc2  pc3  pc4  pc5  pc6  pc7  pc8  pc9  pc10  ...  pc55  pc56  \\\n",
              "pc1   1.0  0.0 -0.0  0.0 -0.0 -0.0 -0.0  0.0  0.0   0.0  ...   0.0  -0.0   \n",
              "pc2   0.0  1.0 -0.0  0.0  0.0 -0.0 -0.0  0.0 -0.0   0.0  ...  -0.0   0.0   \n",
              "pc3  -0.0 -0.0  1.0 -0.0 -0.0  0.0 -0.0  0.0 -0.0   0.0  ...  -0.0  -0.0   \n",
              "pc4   0.0  0.0 -0.0  1.0  0.0 -0.0  0.0 -0.0 -0.0  -0.0  ...  -0.0   0.0   \n",
              "pc5  -0.0  0.0 -0.0  0.0  1.0  0.0  0.0  0.0  0.0  -0.0  ...  -0.0   0.0   \n",
              "...   ...  ...  ...  ...  ...  ...  ...  ...  ...   ...  ...   ...   ...   \n",
              "pc60  0.0  0.0 -0.0 -0.0 -0.0  0.0  0.0  0.0  0.0   0.0  ...  -0.0  -0.0   \n",
              "pc61  0.0  0.0 -0.0 -0.0 -0.0 -0.0 -0.0 -0.0 -0.0   0.0  ...  -0.0  -0.0   \n",
              "pc62 -0.0 -0.0 -0.0 -0.0 -0.0 -0.0 -0.0 -0.0  0.0   0.0  ...  -0.0  -0.0   \n",
              "pc63 -0.0  0.0  0.0  0.0  0.0 -0.0 -0.0  0.0  0.0  -0.0  ...   0.0   0.0   \n",
              "pc64  0.1  0.1 -0.1 -0.0 -0.0  0.0  0.1 -0.1 -0.0  -0.0  ...  -0.0  -0.0   \n",
              "\n",
              "      pc57  pc58  pc59  pc60  pc61  pc62  pc63  pc64  \n",
              "pc1   -0.0  -0.0   0.0   0.0   0.0  -0.0  -0.0   0.1  \n",
              "pc2   -0.0   0.0  -0.0   0.0   0.0  -0.0   0.0   0.1  \n",
              "pc3   -0.0  -0.0   0.0  -0.0  -0.0  -0.0   0.0  -0.1  \n",
              "pc4   -0.0  -0.0   0.0  -0.0  -0.0  -0.0   0.0  -0.0  \n",
              "pc5   -0.0  -0.0  -0.0  -0.0  -0.0  -0.0   0.0  -0.0  \n",
              "...    ...   ...   ...   ...   ...   ...   ...   ...  \n",
              "pc60   0.0  -0.0   0.0   1.0  -0.0  -0.0   0.0   0.1  \n",
              "pc61   0.0  -0.0  -0.0  -0.0   1.0  -0.0  -0.0   0.1  \n",
              "pc62   0.0  -0.0   0.0  -0.0  -0.0   1.0   0.0   0.1  \n",
              "pc63  -0.0  -0.0  -0.0   0.0  -0.0   0.0   1.0   0.0  \n",
              "pc64  -0.1  -0.0  -0.1   0.1   0.1   0.1   0.0   1.0  \n",
              "\n",
              "[64 rows x 64 columns]"
            ],
            "text/html": [
              "\n",
              "  <div id=\"df-4558d8ce-e1a6-4401-ac6f-dc0649397377\">\n",
              "    <div class=\"colab-df-container\">\n",
              "      <div>\n",
              "<style scoped>\n",
              "    .dataframe tbody tr th:only-of-type {\n",
              "        vertical-align: middle;\n",
              "    }\n",
              "\n",
              "    .dataframe tbody tr th {\n",
              "        vertical-align: top;\n",
              "    }\n",
              "\n",
              "    .dataframe thead th {\n",
              "        text-align: right;\n",
              "    }\n",
              "</style>\n",
              "<table border=\"1\" class=\"dataframe\">\n",
              "  <thead>\n",
              "    <tr style=\"text-align: right;\">\n",
              "      <th></th>\n",
              "      <th>pc1</th>\n",
              "      <th>pc2</th>\n",
              "      <th>pc3</th>\n",
              "      <th>pc4</th>\n",
              "      <th>pc5</th>\n",
              "      <th>pc6</th>\n",
              "      <th>pc7</th>\n",
              "      <th>pc8</th>\n",
              "      <th>pc9</th>\n",
              "      <th>pc10</th>\n",
              "      <th>...</th>\n",
              "      <th>pc55</th>\n",
              "      <th>pc56</th>\n",
              "      <th>pc57</th>\n",
              "      <th>pc58</th>\n",
              "      <th>pc59</th>\n",
              "      <th>pc60</th>\n",
              "      <th>pc61</th>\n",
              "      <th>pc62</th>\n",
              "      <th>pc63</th>\n",
              "      <th>pc64</th>\n",
              "    </tr>\n",
              "  </thead>\n",
              "  <tbody>\n",
              "    <tr>\n",
              "      <th>pc1</th>\n",
              "      <td>1.0</td>\n",
              "      <td>0.0</td>\n",
              "      <td>-0.0</td>\n",
              "      <td>0.0</td>\n",
              "      <td>-0.0</td>\n",
              "      <td>-0.0</td>\n",
              "      <td>-0.0</td>\n",
              "      <td>0.0</td>\n",
              "      <td>0.0</td>\n",
              "      <td>0.0</td>\n",
              "      <td>...</td>\n",
              "      <td>0.0</td>\n",
              "      <td>-0.0</td>\n",
              "      <td>-0.0</td>\n",
              "      <td>-0.0</td>\n",
              "      <td>0.0</td>\n",
              "      <td>0.0</td>\n",
              "      <td>0.0</td>\n",
              "      <td>-0.0</td>\n",
              "      <td>-0.0</td>\n",
              "      <td>0.1</td>\n",
              "    </tr>\n",
              "    <tr>\n",
              "      <th>pc2</th>\n",
              "      <td>0.0</td>\n",
              "      <td>1.0</td>\n",
              "      <td>-0.0</td>\n",
              "      <td>0.0</td>\n",
              "      <td>0.0</td>\n",
              "      <td>-0.0</td>\n",
              "      <td>-0.0</td>\n",
              "      <td>0.0</td>\n",
              "      <td>-0.0</td>\n",
              "      <td>0.0</td>\n",
              "      <td>...</td>\n",
              "      <td>-0.0</td>\n",
              "      <td>0.0</td>\n",
              "      <td>-0.0</td>\n",
              "      <td>0.0</td>\n",
              "      <td>-0.0</td>\n",
              "      <td>0.0</td>\n",
              "      <td>0.0</td>\n",
              "      <td>-0.0</td>\n",
              "      <td>0.0</td>\n",
              "      <td>0.1</td>\n",
              "    </tr>\n",
              "    <tr>\n",
              "      <th>pc3</th>\n",
              "      <td>-0.0</td>\n",
              "      <td>-0.0</td>\n",
              "      <td>1.0</td>\n",
              "      <td>-0.0</td>\n",
              "      <td>-0.0</td>\n",
              "      <td>0.0</td>\n",
              "      <td>-0.0</td>\n",
              "      <td>0.0</td>\n",
              "      <td>-0.0</td>\n",
              "      <td>0.0</td>\n",
              "      <td>...</td>\n",
              "      <td>-0.0</td>\n",
              "      <td>-0.0</td>\n",
              "      <td>-0.0</td>\n",
              "      <td>-0.0</td>\n",
              "      <td>0.0</td>\n",
              "      <td>-0.0</td>\n",
              "      <td>-0.0</td>\n",
              "      <td>-0.0</td>\n",
              "      <td>0.0</td>\n",
              "      <td>-0.1</td>\n",
              "    </tr>\n",
              "    <tr>\n",
              "      <th>pc4</th>\n",
              "      <td>0.0</td>\n",
              "      <td>0.0</td>\n",
              "      <td>-0.0</td>\n",
              "      <td>1.0</td>\n",
              "      <td>0.0</td>\n",
              "      <td>-0.0</td>\n",
              "      <td>0.0</td>\n",
              "      <td>-0.0</td>\n",
              "      <td>-0.0</td>\n",
              "      <td>-0.0</td>\n",
              "      <td>...</td>\n",
              "      <td>-0.0</td>\n",
              "      <td>0.0</td>\n",
              "      <td>-0.0</td>\n",
              "      <td>-0.0</td>\n",
              "      <td>0.0</td>\n",
              "      <td>-0.0</td>\n",
              "      <td>-0.0</td>\n",
              "      <td>-0.0</td>\n",
              "      <td>0.0</td>\n",
              "      <td>-0.0</td>\n",
              "    </tr>\n",
              "    <tr>\n",
              "      <th>pc5</th>\n",
              "      <td>-0.0</td>\n",
              "      <td>0.0</td>\n",
              "      <td>-0.0</td>\n",
              "      <td>0.0</td>\n",
              "      <td>1.0</td>\n",
              "      <td>0.0</td>\n",
              "      <td>0.0</td>\n",
              "      <td>0.0</td>\n",
              "      <td>0.0</td>\n",
              "      <td>-0.0</td>\n",
              "      <td>...</td>\n",
              "      <td>-0.0</td>\n",
              "      <td>0.0</td>\n",
              "      <td>-0.0</td>\n",
              "      <td>-0.0</td>\n",
              "      <td>-0.0</td>\n",
              "      <td>-0.0</td>\n",
              "      <td>-0.0</td>\n",
              "      <td>-0.0</td>\n",
              "      <td>0.0</td>\n",
              "      <td>-0.0</td>\n",
              "    </tr>\n",
              "    <tr>\n",
              "      <th>...</th>\n",
              "      <td>...</td>\n",
              "      <td>...</td>\n",
              "      <td>...</td>\n",
              "      <td>...</td>\n",
              "      <td>...</td>\n",
              "      <td>...</td>\n",
              "      <td>...</td>\n",
              "      <td>...</td>\n",
              "      <td>...</td>\n",
              "      <td>...</td>\n",
              "      <td>...</td>\n",
              "      <td>...</td>\n",
              "      <td>...</td>\n",
              "      <td>...</td>\n",
              "      <td>...</td>\n",
              "      <td>...</td>\n",
              "      <td>...</td>\n",
              "      <td>...</td>\n",
              "      <td>...</td>\n",
              "      <td>...</td>\n",
              "      <td>...</td>\n",
              "    </tr>\n",
              "    <tr>\n",
              "      <th>pc60</th>\n",
              "      <td>0.0</td>\n",
              "      <td>0.0</td>\n",
              "      <td>-0.0</td>\n",
              "      <td>-0.0</td>\n",
              "      <td>-0.0</td>\n",
              "      <td>0.0</td>\n",
              "      <td>0.0</td>\n",
              "      <td>0.0</td>\n",
              "      <td>0.0</td>\n",
              "      <td>0.0</td>\n",
              "      <td>...</td>\n",
              "      <td>-0.0</td>\n",
              "      <td>-0.0</td>\n",
              "      <td>0.0</td>\n",
              "      <td>-0.0</td>\n",
              "      <td>0.0</td>\n",
              "      <td>1.0</td>\n",
              "      <td>-0.0</td>\n",
              "      <td>-0.0</td>\n",
              "      <td>0.0</td>\n",
              "      <td>0.1</td>\n",
              "    </tr>\n",
              "    <tr>\n",
              "      <th>pc61</th>\n",
              "      <td>0.0</td>\n",
              "      <td>0.0</td>\n",
              "      <td>-0.0</td>\n",
              "      <td>-0.0</td>\n",
              "      <td>-0.0</td>\n",
              "      <td>-0.0</td>\n",
              "      <td>-0.0</td>\n",
              "      <td>-0.0</td>\n",
              "      <td>-0.0</td>\n",
              "      <td>0.0</td>\n",
              "      <td>...</td>\n",
              "      <td>-0.0</td>\n",
              "      <td>-0.0</td>\n",
              "      <td>0.0</td>\n",
              "      <td>-0.0</td>\n",
              "      <td>-0.0</td>\n",
              "      <td>-0.0</td>\n",
              "      <td>1.0</td>\n",
              "      <td>-0.0</td>\n",
              "      <td>-0.0</td>\n",
              "      <td>0.1</td>\n",
              "    </tr>\n",
              "    <tr>\n",
              "      <th>pc62</th>\n",
              "      <td>-0.0</td>\n",
              "      <td>-0.0</td>\n",
              "      <td>-0.0</td>\n",
              "      <td>-0.0</td>\n",
              "      <td>-0.0</td>\n",
              "      <td>-0.0</td>\n",
              "      <td>-0.0</td>\n",
              "      <td>-0.0</td>\n",
              "      <td>0.0</td>\n",
              "      <td>0.0</td>\n",
              "      <td>...</td>\n",
              "      <td>-0.0</td>\n",
              "      <td>-0.0</td>\n",
              "      <td>0.0</td>\n",
              "      <td>-0.0</td>\n",
              "      <td>0.0</td>\n",
              "      <td>-0.0</td>\n",
              "      <td>-0.0</td>\n",
              "      <td>1.0</td>\n",
              "      <td>0.0</td>\n",
              "      <td>0.1</td>\n",
              "    </tr>\n",
              "    <tr>\n",
              "      <th>pc63</th>\n",
              "      <td>-0.0</td>\n",
              "      <td>0.0</td>\n",
              "      <td>0.0</td>\n",
              "      <td>0.0</td>\n",
              "      <td>0.0</td>\n",
              "      <td>-0.0</td>\n",
              "      <td>-0.0</td>\n",
              "      <td>0.0</td>\n",
              "      <td>0.0</td>\n",
              "      <td>-0.0</td>\n",
              "      <td>...</td>\n",
              "      <td>0.0</td>\n",
              "      <td>0.0</td>\n",
              "      <td>-0.0</td>\n",
              "      <td>-0.0</td>\n",
              "      <td>-0.0</td>\n",
              "      <td>0.0</td>\n",
              "      <td>-0.0</td>\n",
              "      <td>0.0</td>\n",
              "      <td>1.0</td>\n",
              "      <td>0.0</td>\n",
              "    </tr>\n",
              "    <tr>\n",
              "      <th>pc64</th>\n",
              "      <td>0.1</td>\n",
              "      <td>0.1</td>\n",
              "      <td>-0.1</td>\n",
              "      <td>-0.0</td>\n",
              "      <td>-0.0</td>\n",
              "      <td>0.0</td>\n",
              "      <td>0.1</td>\n",
              "      <td>-0.1</td>\n",
              "      <td>-0.0</td>\n",
              "      <td>-0.0</td>\n",
              "      <td>...</td>\n",
              "      <td>-0.0</td>\n",
              "      <td>-0.0</td>\n",
              "      <td>-0.1</td>\n",
              "      <td>-0.0</td>\n",
              "      <td>-0.1</td>\n",
              "      <td>0.1</td>\n",
              "      <td>0.1</td>\n",
              "      <td>0.1</td>\n",
              "      <td>0.0</td>\n",
              "      <td>1.0</td>\n",
              "    </tr>\n",
              "  </tbody>\n",
              "</table>\n",
              "<p>64 rows × 64 columns</p>\n",
              "</div>\n",
              "      <button class=\"colab-df-convert\" onclick=\"convertToInteractive('df-4558d8ce-e1a6-4401-ac6f-dc0649397377')\"\n",
              "              title=\"Convert this dataframe to an interactive table.\"\n",
              "              style=\"display:none;\">\n",
              "        \n",
              "  <svg xmlns=\"http://www.w3.org/2000/svg\" height=\"24px\"viewBox=\"0 0 24 24\"\n",
              "       width=\"24px\">\n",
              "    <path d=\"M0 0h24v24H0V0z\" fill=\"none\"/>\n",
              "    <path d=\"M18.56 5.44l.94 2.06.94-2.06 2.06-.94-2.06-.94-.94-2.06-.94 2.06-2.06.94zm-11 1L8.5 8.5l.94-2.06 2.06-.94-2.06-.94L8.5 2.5l-.94 2.06-2.06.94zm10 10l.94 2.06.94-2.06 2.06-.94-2.06-.94-.94-2.06-.94 2.06-2.06.94z\"/><path d=\"M17.41 7.96l-1.37-1.37c-.4-.4-.92-.59-1.43-.59-.52 0-1.04.2-1.43.59L10.3 9.45l-7.72 7.72c-.78.78-.78 2.05 0 2.83L4 21.41c.39.39.9.59 1.41.59.51 0 1.02-.2 1.41-.59l7.78-7.78 2.81-2.81c.8-.78.8-2.07 0-2.86zM5.41 20L4 18.59l7.72-7.72 1.47 1.35L5.41 20z\"/>\n",
              "  </svg>\n",
              "      </button>\n",
              "      \n",
              "  <style>\n",
              "    .colab-df-container {\n",
              "      display:flex;\n",
              "      flex-wrap:wrap;\n",
              "      gap: 12px;\n",
              "    }\n",
              "\n",
              "    .colab-df-convert {\n",
              "      background-color: #E8F0FE;\n",
              "      border: none;\n",
              "      border-radius: 50%;\n",
              "      cursor: pointer;\n",
              "      display: none;\n",
              "      fill: #1967D2;\n",
              "      height: 32px;\n",
              "      padding: 0 0 0 0;\n",
              "      width: 32px;\n",
              "    }\n",
              "\n",
              "    .colab-df-convert:hover {\n",
              "      background-color: #E2EBFA;\n",
              "      box-shadow: 0px 1px 2px rgba(60, 64, 67, 0.3), 0px 1px 3px 1px rgba(60, 64, 67, 0.15);\n",
              "      fill: #174EA6;\n",
              "    }\n",
              "\n",
              "    [theme=dark] .colab-df-convert {\n",
              "      background-color: #3B4455;\n",
              "      fill: #D2E3FC;\n",
              "    }\n",
              "\n",
              "    [theme=dark] .colab-df-convert:hover {\n",
              "      background-color: #434B5C;\n",
              "      box-shadow: 0px 1px 3px 1px rgba(0, 0, 0, 0.15);\n",
              "      filter: drop-shadow(0px 1px 2px rgba(0, 0, 0, 0.3));\n",
              "      fill: #FFFFFF;\n",
              "    }\n",
              "  </style>\n",
              "\n",
              "      <script>\n",
              "        const buttonEl =\n",
              "          document.querySelector('#df-4558d8ce-e1a6-4401-ac6f-dc0649397377 button.colab-df-convert');\n",
              "        buttonEl.style.display =\n",
              "          google.colab.kernel.accessAllowed ? 'block' : 'none';\n",
              "\n",
              "        async function convertToInteractive(key) {\n",
              "          const element = document.querySelector('#df-4558d8ce-e1a6-4401-ac6f-dc0649397377');\n",
              "          const dataTable =\n",
              "            await google.colab.kernel.invokeFunction('convertToInteractive',\n",
              "                                                     [key], {});\n",
              "          if (!dataTable) return;\n",
              "\n",
              "          const docLinkHtml = 'Like what you see? Visit the ' +\n",
              "            '<a target=\"_blank\" href=https://colab.research.google.com/notebooks/data_table.ipynb>data table notebook</a>'\n",
              "            + ' to learn more about interactive tables.';\n",
              "          element.innerHTML = '';\n",
              "          dataTable['output_type'] = 'display_data';\n",
              "          await google.colab.output.renderOutput(dataTable, element);\n",
              "          const docLink = document.createElement('div');\n",
              "          docLink.innerHTML = docLinkHtml;\n",
              "          element.appendChild(docLink);\n",
              "        }\n",
              "      </script>\n",
              "    </div>\n",
              "  </div>\n",
              "  "
            ]
          },
          "metadata": {},
          "execution_count": 112
        }
      ]
    },
    {
      "cell_type": "code",
      "source": [
        "pc.explained_variance_"
      ],
      "metadata": {
        "colab": {
          "base_uri": "https://localhost:8080/"
        },
        "id": "Q7u2qAKccFCo",
        "outputId": "5e488e82-ede1-47ef-fe15-b79610096804"
      },
      "execution_count": 113,
      "outputs": [
        {
          "output_type": "execute_result",
          "data": {
            "text/plain": [
              "array([7.88130264e+02, 4.68773214e+02, 3.99086552e+02, 2.94712859e+02,\n",
              "       2.59147796e+02, 2.51075497e+02, 2.12747164e+02, 1.86359041e+02,\n",
              "       1.75507015e+02, 1.64847585e+02, 1.63507730e+02, 1.50155714e+02,\n",
              "       1.42174839e+02, 1.37298554e+02, 1.32899562e+02, 1.22932078e+02,\n",
              "       1.15367050e+02, 1.11761106e+02, 1.10621417e+02, 1.08233591e+02,\n",
              "       1.04576918e+02, 1.02695371e+02, 9.96191166e+01, 9.45546790e+01,\n",
              "       9.18300305e+01, 8.84785810e+01, 8.73571853e+01, 8.39405094e+01,\n",
              "       8.19418080e+01, 7.77783365e+01, 7.51273563e+01, 7.24908174e+01,\n",
              "       7.12207602e+01, 6.85705659e+01, 6.75979810e+01, 6.46045669e+01,\n",
              "       6.34722743e+01, 6.21432615e+01, 6.05689143e+01, 5.84613829e+01,\n",
              "       5.64772788e+01, 5.47961007e+01, 5.12749391e+01, 4.99636199e+01,\n",
              "       4.91876810e+01, 4.78939432e+01, 4.70768006e+01, 4.48924290e+01,\n",
              "       4.44671613e+01, 4.17132869e+01, 3.93004605e+01, 3.90912106e+01,\n",
              "       3.73935495e+01, 3.55792321e+01, 3.55105311e+01, 3.34167919e+01,\n",
              "       3.04248526e+01, 2.84513816e+01, 2.56123859e+01, 2.22879105e+01,\n",
              "       1.77130131e+01, 1.69282161e+01, 1.65908776e+01, 1.55431288e-28])"
            ]
          },
          "metadata": {},
          "execution_count": 113
        }
      ]
    },
    {
      "cell_type": "code",
      "source": [
        "max(pc.explained_variance_)"
      ],
      "metadata": {
        "colab": {
          "base_uri": "https://localhost:8080/"
        },
        "id": "eWrqHRJZcYyV",
        "outputId": "5b5cdfc6-d756-4507-f385-e21c14219dcc"
      },
      "execution_count": 114,
      "outputs": [
        {
          "output_type": "execute_result",
          "data": {
            "text/plain": [
              "788.1302642621949"
            ]
          },
          "metadata": {},
          "execution_count": 114
        }
      ]
    },
    {
      "cell_type": "code",
      "source": [
        "arr = pc.explained_variance_ratio_  * 100"
      ],
      "metadata": {
        "id": "3F_zaP6CccLh"
      },
      "execution_count": 115,
      "outputs": []
    },
    {
      "cell_type": "code",
      "source": [
        "arr.size"
      ],
      "metadata": {
        "colab": {
          "base_uri": "https://localhost:8080/"
        },
        "id": "7Y0C9ILph9p1",
        "outputId": "a0d44a4c-0e16-46d4-dd9c-ad9a51385c88"
      },
      "execution_count": 116,
      "outputs": [
        {
          "output_type": "execute_result",
          "data": {
            "text/plain": [
              "64"
            ]
          },
          "metadata": {},
          "execution_count": 116
        }
      ]
    },
    {
      "cell_type": "code",
      "source": [
        "max(arr)"
      ],
      "metadata": {
        "colab": {
          "base_uri": "https://localhost:8080/"
        },
        "id": "z9T7UO8ofK36",
        "outputId": "5d8b5561-622f-4781-aa76-d6aee2b2f470"
      },
      "execution_count": 117,
      "outputs": [
        {
          "output_type": "execute_result",
          "data": {
            "text/plain": [
              "11.358941857732038"
            ]
          },
          "metadata": {},
          "execution_count": 117
        }
      ]
    },
    {
      "cell_type": "code",
      "source": [
        "min(arr)"
      ],
      "metadata": {
        "colab": {
          "base_uri": "https://localhost:8080/"
        },
        "id": "I4YbZJvDcoij",
        "outputId": "0b7e4656-a547-45fe-9cf6-9fa61e4eccec"
      },
      "execution_count": 118,
      "outputs": [
        {
          "output_type": "execute_result",
          "data": {
            "text/plain": [
              "2.240156289060834e-30"
            ]
          },
          "metadata": {},
          "execution_count": 118
        }
      ]
    },
    {
      "cell_type": "code",
      "source": [
        "arr.sum()"
      ],
      "metadata": {
        "colab": {
          "base_uri": "https://localhost:8080/"
        },
        "id": "RPw79gjrg_q5",
        "outputId": "9fb07229-5e97-4560-ea26-1aac6878d8c2"
      },
      "execution_count": 119,
      "outputs": [
        {
          "output_type": "execute_result",
          "data": {
            "text/plain": [
              "100.0"
            ]
          },
          "metadata": {},
          "execution_count": 119
        }
      ]
    },
    {
      "cell_type": "code",
      "source": [
        "import matplotlib.pyplot as plt"
      ],
      "metadata": {
        "id": "JSCpPIYej0At"
      },
      "execution_count": 120,
      "outputs": []
    },
    {
      "cell_type": "code",
      "source": [
        "num_components = len(arr)\n",
        "ind = np.arange(num_components)"
      ],
      "metadata": {
        "id": "YsZ_crHLl3Qp"
      },
      "execution_count": 121,
      "outputs": []
    },
    {
      "cell_type": "code",
      "source": [
        "plt.plot(ind, pc.explained_variance_ratio_  * 100, \"-o\") ### nw we  plot where the x-axis represents the principal components and \n",
        "                                                          ###the y-axis represents the percentage of variance explained by each principal component.\n",
        "plt.show()"
      ],
      "metadata": {
        "colab": {
          "base_uri": "https://localhost:8080/",
          "height": 430
        },
        "id": "jivG7h32hCvH",
        "outputId": "719f4149-cdd3-4510-fd9e-c4df372aed78"
      },
      "execution_count": 122,
      "outputs": [
        {
          "output_type": "display_data",
          "data": {
            "text/plain": [
              "<Figure size 640x480 with 1 Axes>"
            ],
            "image/png": "[encoded data removed]"
          },
          "metadata": {}
        }
      ]
    },
    {
      "cell_type": "code",
      "source": [
        "pc_data.head()"
      ],
      "metadata": {
        "colab": {
          "base_uri": "https://localhost:8080/",
          "height": 386
        },
        "id": "FTr8RkyVhyHC",
        "outputId": "df615fd1-acc1-4d4f-df05-6cbc1a672853"
      },
      "execution_count": 123,
      "outputs": [
        {
          "output_type": "execute_result",
          "data": {
            "text/plain": [
              "         pc1       pc2        pc3        pc4        pc5        pc6        pc7  \\\n",
              "0 -19.838042 -3.555636  -9.812399  -0.824246  12.609984   7.471505  14.190730   \n",
              "1 -23.089215 -6.441460 -13.478251   5.635308   8.035496   3.715178  10.143225   \n",
              "2 -27.456114 -2.465143  -3.533054  -1.341673  12.564846  17.344925  10.354857   \n",
              "3 -42.816801  9.768358  -0.890073   3.445043  42.269904  27.238815  17.520642   \n",
              "4 -55.418530  5.198897 -21.094558  15.849712  10.443273  12.991051  12.597895   \n",
              "\n",
              "         pc8        pc9       pc10  ...      pc55       pc56      pc57  \\\n",
              "0  -3.197977  21.938350 -20.369363  ... -3.571612 -11.111674  6.336264   \n",
              "1  -7.292724  22.338284 -13.119764  ...  3.378131   5.232259 -6.325341   \n",
              "2  -2.671282  -0.234926  -6.357967  ...  1.299500   5.323021 -4.867172   \n",
              "3  -0.554341  14.264354  15.969204  ... -0.342635  -1.117879  2.511719   \n",
              "4  32.513096  -7.896805 -10.177263  ... -0.264565  -2.311955  2.926478   \n",
              "\n",
              "       pc58      pc59      pc60      pc61      pc62      pc63          pc64  \n",
              "0  9.077897 -3.892561 -3.240788  0.446627  0.392266 -0.894904  1.236942e-14  \n",
              "1 -7.665590  3.938798  4.018298 -0.617127 -0.776330  0.969009  1.236942e-14  \n",
              "2 -0.044978  2.027836 -1.089818 -1.695444  0.498405 -0.844418  1.236942e-14  \n",
              "3  6.390061 -3.429572 -0.705737 -1.372244  1.427329  0.735637  1.236942e-14  \n",
              "4 -1.870319  2.295689  0.614378  2.577214 -0.557610 -0.576024  1.236942e-14  \n",
              "\n",
              "[5 rows x 64 columns]"
            ],
            "text/html": [
              "\n",
              "  <div id=\"df-a48dee9b-5031-4457-ba72-5e33f1d7de26\">\n",
              "    <div class=\"colab-df-container\">\n",
              "      <div>\n",
              "<style scoped>\n",
              "    .dataframe tbody tr th:only-of-type {\n",
              "        vertical-align: middle;\n",
              "    }\n",
              "\n",
              "    .dataframe tbody tr th {\n",
              "        vertical-align: top;\n",
              "    }\n",
              "\n",
              "    .dataframe thead th {\n",
              "        text-align: right;\n",
              "    }\n",
              "</style>\n",
              "<table border=\"1\" class=\"dataframe\">\n",
              "  <thead>\n",
              "    <tr style=\"text-align: right;\">\n",
              "      <th></th>\n",
              "      <th>pc1</th>\n",
              "      <th>pc2</th>\n",
              "      <th>pc3</th>\n",
              "      <th>pc4</th>\n",
              "      <th>pc5</th>\n",
              "      <th>pc6</th>\n",
              "      <th>pc7</th>\n",
              "      <th>pc8</th>\n",
              "      <th>pc9</th>\n",
              "      <th>pc10</th>\n",
              "      <th>...</th>\n",
              "      <th>pc55</th>\n",
              "      <th>pc56</th>\n",
              "      <th>pc57</th>\n",
              "      <th>pc58</th>\n",
              "      <th>pc59</th>\n",
              "      <th>pc60</th>\n",
              "      <th>pc61</th>\n",
              "      <th>pc62</th>\n",
              "      <th>pc63</th>\n",
              "      <th>pc64</th>\n",
              "    </tr>\n",
              "  </thead>\n",
              "  <tbody>\n",
              "    <tr>\n",
              "      <th>0</th>\n",
              "      <td>-19.838042</td>\n",
              "      <td>-3.555636</td>\n",
              "      <td>-9.812399</td>\n",
              "      <td>-0.824246</td>\n",
              "      <td>12.609984</td>\n",
              "      <td>7.471505</td>\n",
              "      <td>14.190730</td>\n",
              "      <td>-3.197977</td>\n",
              "      <td>21.938350</td>\n",
              "      <td>-20.369363</td>\n",
              "      <td>...</td>\n",
              "      <td>-3.571612</td>\n",
              "      <td>-11.111674</td>\n",
              "      <td>6.336264</td>\n",
              "      <td>9.077897</td>\n",
              "      <td>-3.892561</td>\n",
              "      <td>-3.240788</td>\n",
              "      <td>0.446627</td>\n",
              "      <td>0.392266</td>\n",
              "      <td>-0.894904</td>\n",
              "      <td>1.236942e-14</td>\n",
              "    </tr>\n",
              "    <tr>\n",
              "      <th>1</th>\n",
              "      <td>-23.089215</td>\n",
              "      <td>-6.441460</td>\n",
              "      <td>-13.478251</td>\n",
              "      <td>5.635308</td>\n",
              "      <td>8.035496</td>\n",
              "      <td>3.715178</td>\n",
              "      <td>10.143225</td>\n",
              "      <td>-7.292724</td>\n",
              "      <td>22.338284</td>\n",
              "      <td>-13.119764</td>\n",
              "      <td>...</td>\n",
              "      <td>3.378131</td>\n",
              "      <td>5.232259</td>\n",
              "      <td>-6.325341</td>\n",
              "      <td>-7.665590</td>\n",
              "      <td>3.938798</td>\n",
              "      <td>4.018298</td>\n",
              "      <td>-0.617127</td>\n",
              "      <td>-0.776330</td>\n",
              "      <td>0.969009</td>\n",
              "      <td>1.236942e-14</td>\n",
              "    </tr>\n",
              "    <tr>\n",
              "      <th>2</th>\n",
              "      <td>-27.456114</td>\n",
              "      <td>-2.465143</td>\n",
              "      <td>-3.533054</td>\n",
              "      <td>-1.341673</td>\n",
              "      <td>12.564846</td>\n",
              "      <td>17.344925</td>\n",
              "      <td>10.354857</td>\n",
              "      <td>-2.671282</td>\n",
              "      <td>-0.234926</td>\n",
              "      <td>-6.357967</td>\n",
              "      <td>...</td>\n",
              "      <td>1.299500</td>\n",
              "      <td>5.323021</td>\n",
              "      <td>-4.867172</td>\n",
              "      <td>-0.044978</td>\n",
              "      <td>2.027836</td>\n",
              "      <td>-1.089818</td>\n",
              "      <td>-1.695444</td>\n",
              "      <td>0.498405</td>\n",
              "      <td>-0.844418</td>\n",
              "      <td>1.236942e-14</td>\n",
              "    </tr>\n",
              "    <tr>\n",
              "      <th>3</th>\n",
              "      <td>-42.816801</td>\n",
              "      <td>9.768358</td>\n",
              "      <td>-0.890073</td>\n",
              "      <td>3.445043</td>\n",
              "      <td>42.269904</td>\n",
              "      <td>27.238815</td>\n",
              "      <td>17.520642</td>\n",
              "      <td>-0.554341</td>\n",
              "      <td>14.264354</td>\n",
              "      <td>15.969204</td>\n",
              "      <td>...</td>\n",
              "      <td>-0.342635</td>\n",
              "      <td>-1.117879</td>\n",
              "      <td>2.511719</td>\n",
              "      <td>6.390061</td>\n",
              "      <td>-3.429572</td>\n",
              "      <td>-0.705737</td>\n",
              "      <td>-1.372244</td>\n",
              "      <td>1.427329</td>\n",
              "      <td>0.735637</td>\n",
              "      <td>1.236942e-14</td>\n",
              "    </tr>\n",
              "    <tr>\n",
              "      <th>4</th>\n",
              "      <td>-55.418530</td>\n",
              "      <td>5.198897</td>\n",
              "      <td>-21.094558</td>\n",
              "      <td>15.849712</td>\n",
              "      <td>10.443273</td>\n",
              "      <td>12.991051</td>\n",
              "      <td>12.597895</td>\n",
              "      <td>32.513096</td>\n",
              "      <td>-7.896805</td>\n",
              "      <td>-10.177263</td>\n",
              "      <td>...</td>\n",
              "      <td>-0.264565</td>\n",
              "      <td>-2.311955</td>\n",
              "      <td>2.926478</td>\n",
              "      <td>-1.870319</td>\n",
              "      <td>2.295689</td>\n",
              "      <td>0.614378</td>\n",
              "      <td>2.577214</td>\n",
              "      <td>-0.557610</td>\n",
              "      <td>-0.576024</td>\n",
              "      <td>1.236942e-14</td>\n",
              "    </tr>\n",
              "  </tbody>\n",
              "</table>\n",
              "<p>5 rows × 64 columns</p>\n",
              "</div>\n",
              "      <button class=\"colab-df-convert\" onclick=\"convertToInteractive('df-a48dee9b-5031-4457-ba72-5e33f1d7de26')\"\n",
              "              title=\"Convert this dataframe to an interactive table.\"\n",
              "              style=\"display:none;\">\n",
              "        \n",
              "  <svg xmlns=\"http://www.w3.org/2000/svg\" height=\"24px\"viewBox=\"0 0 24 24\"\n",
              "       width=\"24px\">\n",
              "    <path d=\"M0 0h24v24H0V0z\" fill=\"none\"/>\n",
              "    <path d=\"M18.56 5.44l.94 2.06.94-2.06 2.06-.94-2.06-.94-.94-2.06-.94 2.06-2.06.94zm-11 1L8.5 8.5l.94-2.06 2.06-.94-2.06-.94L8.5 2.5l-.94 2.06-2.06.94zm10 10l.94 2.06.94-2.06 2.06-.94-2.06-.94-.94-2.06-.94 2.06-2.06.94z\"/><path d=\"M17.41 7.96l-1.37-1.37c-.4-.4-.92-.59-1.43-.59-.52 0-1.04.2-1.43.59L10.3 9.45l-7.72 7.72c-.78.78-.78 2.05 0 2.83L4 21.41c.39.39.9.59 1.41.59.51 0 1.02-.2 1.41-.59l7.78-7.78 2.81-2.81c.8-.78.8-2.07 0-2.86zM5.41 20L4 18.59l7.72-7.72 1.47 1.35L5.41 20z\"/>\n",
              "  </svg>\n",
              "      </button>\n",
              "      \n",
              "  <style>\n",
              "    .colab-df-container {\n",
              "      display:flex;\n",
              "      flex-wrap:wrap;\n",
              "      gap: 12px;\n",
              "    }\n",
              "\n",
              "    .colab-df-convert {\n",
              "      background-color: #E8F0FE;\n",
              "      border: none;\n",
              "      border-radius: 50%;\n",
              "      cursor: pointer;\n",
              "      display: none;\n",
              "      fill: #1967D2;\n",
              "      height: 32px;\n",
              "      padding: 0 0 0 0;\n",
              "      width: 32px;\n",
              "    }\n",
              "\n",
              "    .colab-df-convert:hover {\n",
              "      background-color: #E2EBFA;\n",
              "      box-shadow: 0px 1px 2px rgba(60, 64, 67, 0.3), 0px 1px 3px 1px rgba(60, 64, 67, 0.15);\n",
              "      fill: #174EA6;\n",
              "    }\n",
              "\n",
              "    [theme=dark] .colab-df-convert {\n",
              "      background-color: #3B4455;\n",
              "      fill: #D2E3FC;\n",
              "    }\n",
              "\n",
              "    [theme=dark] .colab-df-convert:hover {\n",
              "      background-color: #434B5C;\n",
              "      box-shadow: 0px 1px 3px 1px rgba(0, 0, 0, 0.15);\n",
              "      filter: drop-shadow(0px 1px 2px rgba(0, 0, 0, 0.3));\n",
              "      fill: #FFFFFF;\n",
              "    }\n",
              "  </style>\n",
              "\n",
              "      <script>\n",
              "        const buttonEl =\n",
              "          document.querySelector('#df-a48dee9b-5031-4457-ba72-5e33f1d7de26 button.colab-df-convert');\n",
              "        buttonEl.style.display =\n",
              "          google.colab.kernel.accessAllowed ? 'block' : 'none';\n",
              "\n",
              "        async function convertToInteractive(key) {\n",
              "          const element = document.querySelector('#df-a48dee9b-5031-4457-ba72-5e33f1d7de26');\n",
              "          const dataTable =\n",
              "            await google.colab.kernel.invokeFunction('convertToInteractive',\n",
              "                                                     [key], {});\n",
              "          if (!dataTable) return;\n",
              "\n",
              "          const docLinkHtml = 'Like what you see? Visit the ' +\n",
              "            '<a target=\"_blank\" href=https://colab.research.google.com/notebooks/data_table.ipynb>data table notebook</a>'\n",
              "            + ' to learn more about interactive tables.';\n",
              "          element.innerHTML = '';\n",
              "          dataTable['output_type'] = 'display_data';\n",
              "          await google.colab.output.renderOutput(dataTable, element);\n",
              "          const docLink = document.createElement('div');\n",
              "          docLink.innerHTML = docLinkHtml;\n",
              "          element.appendChild(docLink);\n",
              "        }\n",
              "      </script>\n",
              "    </div>\n",
              "  </div>\n",
              "  "
            ]
          },
          "metadata": {},
          "execution_count": 123
        }
      ]
    },
    {
      "cell_type": "code",
      "source": [
        "km.inertia_ ### we can see that inertia is reduced after pca"
      ],
      "metadata": {
        "colab": {
          "base_uri": "https://localhost:8080/"
        },
        "id": "-jW3p4Iho-1S",
        "outputId": "36a6d7ab-a0db-438b-9f58-8c212c3c2965"
      },
      "execution_count": 124,
      "outputs": [
        {
          "output_type": "execute_result",
          "data": {
            "text/plain": [
              "166524.37983661177"
            ]
          },
          "metadata": {},
          "execution_count": 124
        }
      ]
    },
    {
      "cell_type": "code",
      "source": [
        "inertia_list = []\n",
        "\n",
        "\n",
        "for i in range(1,11):\n",
        "  km = KMeans(n_clusters = i, n_init = 20)\n",
        "  km.fit(pc_data)\n",
        "  inertia = km.inertia_\n",
        "  inertia_list.append(inertia)"
      ],
      "metadata": {
        "id": "4ahibauZpBCG"
      },
      "execution_count": 125,
      "outputs": []
    },
    {
      "cell_type": "code",
      "source": [
        "inertia_list"
      ],
      "metadata": {
        "colab": {
          "base_uri": "https://localhost:8080/"
        },
        "id": "-6gf9p94xRGn",
        "outputId": "49fa1a56-44e8-49b9-a6e1-3ef44a364c11"
      },
      "execution_count": 135,
      "outputs": [
        {
          "output_type": "execute_result",
          "data": {
            "text/plain": [
              "[437119.9999999999,\n",
              " 398638.63893850485,\n",
              " 372243.0311497416,\n",
              " 356075.63099840994,\n",
              " 335187.414260225,\n",
              " 326319.5593240225,\n",
              " 311820.4412671479,\n",
              " 303275.6643948606,\n",
              " 290899.8761613939,\n",
              " 281716.43402994494]"
            ]
          },
          "metadata": {},
          "execution_count": 135
        }
      ]
    },
    {
      "cell_type": "code",
      "source": [
        "plt.plot(range(1,11), inertia_list)\n",
        "plt.xlabel(\"Number of clusters\")\n",
        "plt.ylabel(\"Inertia\")\n",
        "plt.show();"
      ],
      "metadata": {
        "colab": {
          "base_uri": "https://localhost:8080/",
          "height": 449
        },
        "id": "SjDlwTmipMvB",
        "outputId": "dbb19cae-e25d-4466-d111-095c9c2d25ce"
      },
      "execution_count": 126,
      "outputs": [
        {
          "output_type": "display_data",
          "data": {
            "text/plain": [
              "<Figure size 640x480 with 1 Axes>"
            ],
            "image/png": "[encoded data removed]"
          },
          "metadata": {}
        }
      ]
    },
    {
      "cell_type": "code",
      "source": [
        "km = KMeans(n_clusters = 8, n_init = 20)\n",
        "km.fit(pc_data)\n",
        "cluster_labels1 = km.predict(pc_data)"
      ],
      "metadata": {
        "id": "Rwi8oPkIoXdZ"
      },
      "execution_count": 127,
      "outputs": []
    },
    {
      "cell_type": "code",
      "source": [
        "cluster_labels1"
      ],
      "metadata": {
        "colab": {
          "base_uri": "https://localhost:8080/"
        },
        "id": "P_XExOh7ouY3",
        "outputId": "f9b32f9b-b584-4c26-98e7-8ac530808cb1"
      },
      "execution_count": 128,
      "outputs": [
        {
          "output_type": "execute_result",
          "data": {
            "text/plain": [
              "array([0, 0, 0, 7, 0, 0, 0, 0, 0, 7, 7, 7, 0, 7, 7, 7, 7, 0, 7, 0, 0, 0,\n",
              "       0, 1, 1, 7, 1, 0, 1, 1, 1, 1, 1, 1, 3, 3, 3, 5, 5, 5, 1, 1, 1, 1,\n",
              "       1, 1, 1, 1, 6, 6, 6, 6, 1, 1, 1, 4, 4, 4, 2, 2, 2, 2, 2, 2],\n",
              "      dtype=int32)"
            ]
          },
          "metadata": {},
          "execution_count": 128
        }
      ]
    },
    {
      "cell_type": "code",
      "source": [
        "###lets do hierarchical clustering"
      ],
      "metadata": {
        "id": "13-3bq2qxWoO"
      },
      "execution_count": null,
      "outputs": []
    },
    {
      "cell_type": "code",
      "source": [
        "from scipy.cluster.hierarchy import linkage\n",
        "from scipy.cluster.hierarchy import dendrogram\n",
        "from scipy.cluster.hierarchy import fcluster"
      ],
      "metadata": {
        "id": "ghRZ7Alro0K3"
      },
      "execution_count": 129,
      "outputs": []
    },
    {
      "cell_type": "code",
      "source": [
        "mergings = linkage(pc_data, method = \"complete\") ## we choose max(complete linkage) out of the other 3 methods to find the inter cluster distance"
      ],
      "metadata": {
        "id": "GWulv990qqIM"
      },
      "execution_count": 130,
      "outputs": []
    },
    {
      "cell_type": "code",
      "source": [
        "plt.figure(figsize= (10, 6))\n",
        "dendrogram(mergings)\n",
        "plt.axhline(115, color = \"red\", linestyle = \"--\")\n",
        "plt.show()"
      ],
      "metadata": {
        "colab": {
          "base_uri": "https://localhost:8080/",
          "height": 519
        },
        "id": "E4VGczCSq0kT",
        "outputId": "5289e89f-8b27-475c-dae7-9458037fa1b8"
      },
      "execution_count": 131,
      "outputs": [
        {
          "output_type": "display_data",
          "data": {
            "text/plain": [
              "<Figure size 1000x600 with 1 Axes>"
            ],
            "image/png": "[encoded data removed]"
          },
          "metadata": {}
        }
      ]
    },
    {
      "cell_type": "code",
      "source": [
        "cluster_labels = fcluster(mergings, 115, criterion = \"distance\")"
      ],
      "metadata": {
        "id": "O7EqGIjlsfsm"
      },
      "execution_count": 132,
      "outputs": []
    },
    {
      "cell_type": "code",
      "source": [
        "pd.Series(cluster_labels).value_counts()"
      ],
      "metadata": {
        "colab": {
          "base_uri": "https://localhost:8080/"
        },
        "id": "o21JOfPvsnJA",
        "outputId": "03baf7d2-6acd-4d48-d116-1683dc35c88d"
      },
      "execution_count": 133,
      "outputs": [
        {
          "output_type": "execute_result",
          "data": {
            "text/plain": [
              "8     12\n",
              "10     9\n",
              "11     8\n",
              "9      6\n",
              "16     5\n",
              "13     5\n",
              "14     4\n",
              "2      2\n",
              "1      2\n",
              "6      2\n",
              "7      2\n",
              "15     2\n",
              "3      1\n",
              "4      1\n",
              "17     1\n",
              "12     1\n",
              "5      1\n",
              "dtype: int64"
            ]
          },
          "metadata": {},
          "execution_count": 133
        }
      ]
    },
    {
      "cell_type": "code",
      "source": [
        "plt.scatter(pc_data['pc1'], pc_data['pc2'], c = cluster_labels )\n",
        "plt.xlabel(\"pc1\")\n",
        "plt.ylabel(\"pc2\")\n",
        "plt.title(\"pc1 Vs pc2\")\n",
        "plt.show()"
      ],
      "metadata": {
        "colab": {
          "base_uri": "https://localhost:8080/",
          "height": 472
        },
        "id": "ArWsD3IUspfx",
        "outputId": "0c7449cd-d914-4924-bd58-6a50ef409cf3"
      },
      "execution_count": 134,
      "outputs": [
        {
          "output_type": "display_data",
          "data": {
            "text/plain": [
              "<Figure size 640x480 with 1 Axes>"
            ],
            "image/png": "[encoded data removed]"
          },
          "metadata": {}
        }
      ]
    }
  ]
}